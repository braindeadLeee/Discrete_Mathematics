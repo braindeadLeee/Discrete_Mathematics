{
 "cells": [
  {
   "cell_type": "markdown",
   "metadata": {},
   "source": [
    "### <font color=red>ASSIGNMENT</font>\n",
    "---\n",
    "- Create a python function that will determine if a set is transitive or not."
   ]
  },
  {
   "cell_type": "markdown",
   "metadata": {},
   "source": [
    "R_1 = \\{\\{1,1\\},\\{1,2\\},\\{2,3\\},\\{1,3\\},\\{4,4\\}\\} <br>\n",
    "R_2 = \\{\\{1,1\\},\\{1,2\\},\\{2,1\\},\\{2,2\\},\\{3,3\\},\\{4,4\\}\\} <br>\n",
    "R_3 = \\{\\{1,3,\\},\\{2,1\\}\\} <br>\n",
    "R_4 = AxA"
   ]
  },
  {
   "cell_type": "code",
   "execution_count": 13,
   "metadata": {},
   "outputs": [
    {
     "name": "stdout",
     "output_type": "stream",
     "text": [
      "[(1, 1), (1, 2), (2, 3), (1, 3), (4, 4)]\n",
      "  transitive:  True\n",
      "[(1, 1), (1, 2), (2, 1), (2, 2), (3, 3), (4, 4)]\n",
      "  transitive:  True\n",
      "[(1, 3), (2, 1)]\n",
      "  transitive:  False\n",
      "[(1, 1), (1, 2), (1, 3), (1, 4), (2, 1), (2, 2), (2, 3), (2, 4), (3, 1), (3, 2), (3, 3), (3, 4), (4, 1), (4, 2), (4, 3), (4, 4)]\n",
      "  transitive:  True\n"
     ]
    }
   ],
   "source": [
    "def is_transitive(R, A):\n",
    "    for a,b in R:\n",
    "        if not a and not b:\n",
    "            continue\n",
    "        for c,d in R:\n",
    "            if b == c and ((a,d) not in R):\n",
    "                    # print (a,b),(c,d) # uncomment for tests...\n",
    "                    return False\n",
    "    return True\n",
    "A = set([1, 2, 3, 4])\n",
    "R1 = [(1, 1), (1, 2), (2, 3), (1, 3), (4, 4)]\n",
    "R2 = [(1, 1), (1, 2), (2, 1),(2,2),(3,3),(4,4)]\n",
    "R3 = [(1,3),(2,1)]\n",
    "R4 = [(a,b) for a in A for b in A]\n",
    "for R in [R1, R2, R3, R4]:\n",
    "    print(R)\n",
    "    print(\"  transitive: \", is_transitive(R, A))"
   ]
  },
  {
   "cell_type": "code",
   "execution_count": null,
   "metadata": {},
   "outputs": [],
   "source": []
  }
 ],
 "metadata": {
  "kernelspec": {
   "display_name": "Python 3 (ipykernel)",
   "language": "python",
   "name": "python3"
  },
  "language_info": {
   "codemirror_mode": {
    "name": "ipython",
    "version": 3
   },
   "file_extension": ".py",
   "mimetype": "text/x-python",
   "name": "python",
   "nbconvert_exporter": "python",
   "pygments_lexer": "ipython3",
   "version": "3.11.4"
  }
 },
 "nbformat": 4,
 "nbformat_minor": 4
}

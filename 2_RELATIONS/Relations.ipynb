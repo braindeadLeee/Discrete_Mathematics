{
 "cells": [
  {
   "cell_type": "markdown",
   "id": "f59305b1",
   "metadata": {},
   "source": [
    "# II. Relations"
   ]
  },
  {
   "cell_type": "markdown",
   "id": "3f05f07c",
   "metadata": {},
   "source": [
    "- Formally, a \"relation\" is defined in terms of an ordered pair.\n",
    "- An \"ordered pair\" of elements a, and b is denoted as (a,b).\n",
    "- Where a is the first element of the \"ordered pair\", and b is the second element.\n",
    "- for example:\n",
    "$(a,b) = (c,d) \\iff a==c \\land b==d$.\n",
    "- Example let a=3 and b=5, so if a=c, and b=d then $(3,5) = (3,5)$.\n"
   ]
  },
  {
   "cell_type": "markdown",
   "id": "63a8886f",
   "metadata": {},
   "source": [
    "# Review on Cartesian Product"
   ]
  },
  {
   "cell_type": "markdown",
   "id": "31e5f9e3",
   "metadata": {},
   "source": [
    "- Let A and B be sets. Then the cartesian product is the set of all ordered pair ${a_i,b_i}$ where $a_i \\in A$ and $a_i \\in B$.\n",
    "- Example:<br>\n",
    "Let A = {1,2} and B={a,b,c}<br>\n",
    "Then:\n",
    "$A x B =${{1,a},{1,b},{1,c},{2,a},{2,b},{2,c}}<br>\n",
    "Review Exercise:<br>\n",
    "a. Find $B x A$ <br>\n",
    "b. Can we say that $AxB = BxA$? Why or why not?<br><br><br>\n",
    "- The Cardinality of a cartesian product is denoted by:<br>\n",
    "$|AxB| = |A||B|$<br>\n",
    "- This is the product of the cardinality of A and the cardinality of B."
   ]
  },
  {
   "cell_type": "markdown",
   "id": "cb787f29",
   "metadata": {},
   "source": [
    "# Relation\n",
    "---\n",
    "$$\\require{cancel}$$  \n",
    "- Let A and B be sets.\n",
    "- A binary relation, or simply called a \"relation\" from A to B is a subset of $AxB$.\n",
    "- Let the relation be denoted as $\\textbf{R}$, do not be confused with the real number space which is denoted by $\\mathbb{R}$.\n",
    "- Then $\\textbf{R}$ is a set of ordered pairs where the first element, $a_i \\in A$, and the second element, $b_i \\in B$. By this statement, exactly one of the following is true:\n",
    "1. $(a,b)\\in\\textbf{R}$, we can say that \"element a is R-related to element b\" written as $a\\textbf{R}b$.\n",
    "2. $(a,b)\\notin\\textbf{R}$, we can say that \"element a is not R-related to element b\" written as $a \\cancel{\\textbf{R}} b$.\n",
    "3. However, if $\\textbf{R}$ is a relation from set A to itself, $AxA$, then we say \"$\\textbf{R}$ is a relation on A\".\n",
    "- The domain of the relation, $\\textbf{R}$, is the set of all first elements of the ordered pairs that belongs to $\\textbf{R}$, that is it is all the $a_i$ in $AxB =${{$a_1,b_1$},...,{$a_n,b_n$}}, where $i = 1,2,3,....,n$.\n",
    "- The range of the relation, $\\textbf{R}$, is the set of all second elements of the ordered pairs that belongs to $\\textbf{R}$, that is it is all the $b_i$ in $AxB =${{$a_1,b_1$},...,{$a_n,b_n$}}, where $i = 1,2,3,....,n$.\n",
    "<br>\n",
    "<br>\n",
    "## Example:\n",
    "(a) Let $\\textbf{A}$ = {1,2,3} and $\\textbf{B}$ = {x,y,z}, and let $\\textbf{R}$={{1,y},{1,z},{3,y}}.<br>\n",
    "$\\to$ By definition: a binary relation, or simply called a \"relation\" from A to B is a subset of $AxB$.<br>\n",
    "$\\to$ we know that the cartesian product of $AxB = \\{\\{1,x\\},\\{1,y\\},\\{1,z\\},\\{2,x\\},\\{2,y\\},\\{2,z\\},\\{3,x\\},\\{3,y\\},\\{3,z\\}\\}$.<br>\n",
    "$\\to$ Then $\\textbf{R}$ is a relation from A to B since, $\\textbf{R}$ is a subet of $AxB$.<br>\n",
    "$\\to$ with respect to the relation $\\textbf{R}$: $1\\textbf{R}y$,$1\\textbf{R}z$,$3\\textbf{R}y$, since $\\textbf{R}$={{1,y},{1,z},{3,y}}.<br>\n",
    "$\\to$ **BUT**: $1 \\cancel{\\textbf{R}} x$,$2 \\cancel{\\textbf{R}} x$,$2 \\cancel{\\textbf{R}} y$,$2 \\cancel{\\textbf{R}} z$,$3 \\cancel{\\textbf{R}} x$,$3 \\cancel{\\textbf{R}} z$. <font color=red>**WHY?**</font><br>\n",
    "$\\to$ The domain of $\\textbf{R}$ is {1,3} a,d the range is {y,z}."
   ]
  },
  {
   "cell_type": "markdown",
   "id": "781f4671",
   "metadata": {},
   "source": [
    "# Inverse Relation\n",
    "---\n",
    "$$\\require{cancel}$$  \n",
    "- Let A and B be sets.\n",
    "- Let $\\textbf{R}$ be any binary relation from A to B.\n",
    "- Let the inverse of a relation be denoted as $\\textbf{R}^{-1}$.\n",
    "- Then $\\textbf{R}^{-1}$ is the relation from B to A, which is a set of ordered pairs where the first element is, $b_i \\in B$, and the second element, $a_i \\in A$.\n",
    "<br>\n",
    "<br>\n",
    "## Example:\n",
    "From the previous example we have $\\textbf{R}$={{1,y},{1,z},{3,y}}.<br>\n",
    "$\\to$ So $\\textbf{R}^{-1}$={{y,1},{z,1},{y,3}}."
   ]
  },
  {
   "cell_type": "markdown",
   "id": "d24a18e9",
   "metadata": {},
   "source": [
    "# Composition of Relations\n",
    "---\n",
    "Consider the following:<br>\n",
    "**a.** Let A, B, and C be sets.<br>\n",
    "**b.** Let $\\textbf{R}$ be a relation from A to B. So $\\textbf{R}$ be any subset contained in $AxB$.<br>\n",
    "**c.** Let $\\textbf{S}$ be a relation from B to C. So $\\textbf{S}$ be any subset contained in $BxC$.<br>\n",
    "$\\to$ Then $\\textbf{R}$ and $\\textbf{S}$ gives a relation from A to C which is denoted by $\\textbf{R} \\circ \\textbf{S}$ defined by:<br><br>\n",
    "\\begin{equation}\n",
    "a(\\textbf{R} \\circ \\textbf{S})c \\ if \\ for \\ some  \\ b \\in B \\ we \\ have \\  a\\textbf{R}b  \\ and \\  b\\textbf{R}c.\n",
    "\\end{equation}<br>\n",
    "that is <br><br>\n",
    "\\begin{equation}\n",
    "\\textbf{R} \\circ \\textbf{S} =  \\{ (a,c)| there \\ exist \\ b \\in B \\ for. \\ which \\ (a,b) \\in B \\ and. \\ (b,c) \\in S\\}.\n",
    "\\end{equation}<br><br>\n",
    "\n",
    "## Example\n",
    "- Let A = {1,2,3,4}, and B = {a,b,c,d} and C = {x, y, z}.\n",
    "- Let $\\textbf{R} = \\{\\{1,a \\},\\{2,d \\},\\{3,a \\},\\{3,b \\},\\{3,d \\} \\}$ and $\\textbf{S} = \\{\\{b,x \\},\\{b,z \\},\\{c,y \\},\\{d,z \\} \\}$.\n",
    "- Find $\\textbf{R} \\circ \\textbf{S}$\n",
    "Solution:<br>\n",
    "$\\to$ To solve this first recall that the sets in $\\textbf{R}$ are all subsets that exists in $\\textbf{A}x\\textbf{B}$.Also recall that the sets in $\\textbf{S}$ are all subsets that exists in $\\textbf{B}x\\textbf{C}$.<br>\n",
    "$\\to$ The hint here is to find the second elements in $\\textbf{R}$ which exist as the first element in $\\textbf{S}$:\n",
    "\\begin{equation}\n",
    "\\{2,d\\}\\in \\textbf{R} : \\{d,z\\} \\in \\textbf{S} \\\\ \n",
    "\\{3,b\\}\\in \\textbf{R} : \\{b,x\\} \\in \\textbf{S} \\\\\n",
    "\\{3,d\\}\\in \\textbf{R} : \\{d,z\\} \\in \\textbf{S} \\\\ \n",
    "\\end{equation}<br>\n",
    "$\\to$ The answer:<br>\n",
    "\\begin{equation}\n",
    "\\textbf{R} \\circ \\textbf{S} = \\{\\{2,z\\},\\{3,x\\},\\{3,z\\}\\}\n",
    "\\end{equation}<br>"
   ]
  },
  {
   "cell_type": "markdown",
   "id": "02220426",
   "metadata": {},
   "source": [
    "# Types of Relations\n",
    "---"
   ]
  },
  {
   "cell_type": "markdown",
   "id": "73a47be7",
   "metadata": {},
   "source": [
    "## Reflexive Relations\n",
    "---\n",
    "- A relation $\\textbf{R}$ on a set A is reflexive $\\iff a\\textbf{R}a  \\ \\forall \\ a \\in A$.\n",
    "- **HINT:** A relation $\\textbf{R}$ on a set A is reflexive if $(a,a) \\in R \\ \\forall \\ a\\in A$.\n",
    "- **HINT:** A relation $\\textbf{R}$ on a set A is not reflexive if $(a,a) \\in R \\ \\forall \\ a\\notin A$.\n",
    "<br>\n",
    "<br>\n",
    "### Example:\n",
    "- Consider the following five relation on the set A = {1,2,3,4}:\n",
    "\\begin{equation}\n",
    "R_1 = \\{\\{1,1\\},\\{1,2\\},\\{2,3\\},\\{1,3\\},\\{4,4\\}\\} \\\\\n",
    "R_2 = \\{\\{1,1\\},\\{1,2\\},\\{2,1\\},\\{2,2\\},\\{3,3\\},\\{4,4\\}\\} \\\\\n",
    "R_3 = \\{\\{1,3,\\},\\{2,1\\}\\} \\\\\n",
    "R_4 = AxA\n",
    "\\end{equation}<br>\n",
    "**HINT:** A relation $\\textbf{R}$ on a set A is reflexive if $(a,a) \\in R \\ \\forall \\ a\\in A$.<br> \n",
    "$\\to$ That means if $A = \\{1,2,3,4\\}$ then $\\{a,a\\} = \\{\\{1,1\\},\\{2,2\\},\\{3,3\\},\\{4,4\\}\\}$.<br>\n",
    "$\\to$ This means that $\\{a,a\\} = \\{\\{1,1\\},\\{2,2\\},\\{3,3\\},\\{4,4\\}\\} \\ \\in \\textbf{R}$.<br>\n",
    "$\\to$ Only two relations that contains $\\{a,a\\} = \\{\\{1,1\\},\\{2,2\\},\\{3,3\\},\\{4,4\\}\\}$, which are:<br><br>\n",
    "\\begin{equation}\n",
    "R_2 = \\{\\{1,1\\},\\{1,2\\},\\{2,1\\},\\{2,2\\},\\{3,3\\},\\{4,4\\}\\} \\\\\n",
    "R_4 = AxA\n",
    "\\end{equation}<br><br>\n",
    "$\\to$ The answer is $R_2$ and $R_4$."
   ]
  },
  {
   "cell_type": "code",
   "execution_count": 1,
   "id": "6bf46ecf",
   "metadata": {},
   "outputs": [],
   "source": [
    "### Pythonic Function for Reflexive Relation\n",
    "def reflexive(R, A):\n",
    "    \"\"\"Returns True if a relation R on set A is reflexive, False otherwise.\"\"\"\n",
    "    for a in A:\n",
    "        if (a, a) not in R:\n",
    "            return False\n",
    "    return True"
   ]
  },
  {
   "cell_type": "code",
   "execution_count": 2,
   "id": "b279d7dc",
   "metadata": {},
   "outputs": [
    {
     "name": "stdout",
     "output_type": "stream",
     "text": [
      "[(1, 1), (1, 2), (2, 3), (1, 3), (4, 4)]\n",
      "  reflexive:  False\n",
      "[(1, 1), (1, 2), (2, 1), (2, 2), (3, 3), (4, 4)]\n",
      "  reflexive:  True\n",
      "[(1, 3), (2, 1)]\n",
      "  reflexive:  False\n",
      "[(1, 1), (1, 2), (1, 3), (1, 4), (2, 1), (2, 2), (2, 3), (2, 4), (3, 1), (3, 2), (3, 3), (3, 4), (4, 1), (4, 2), (4, 3), (4, 4)]\n",
      "  reflexive:  True\n"
     ]
    }
   ],
   "source": [
    "A = set([1, 2, 3, 4])\n",
    "R1 = [(1, 1), (1, 2), (2, 3), (1, 3), (4, 4)]\n",
    "R2 = [(1, 1), (1, 2), (2, 1),(2,2),(3,3),(4,4)]\n",
    "R3 = [(1,3),(2,1)]\n",
    "R4 =[(x0, y0) for x0 in A for y0 in A]\n",
    "for R in [R1, R2, R3, R4]:\n",
    "    print(R)\n",
    "    print(\"  reflexive: \", reflexive(R, A))"
   ]
  },
  {
   "cell_type": "markdown",
   "id": "ba183779",
   "metadata": {},
   "source": [
    "## Symmetric and Antisymmetric Relations\n",
    "---\n",
    "- A relation $\\textbf{R}$ on set A is symmetric if whenever $a\\textbf{R}b$ then $b\\textbf{R}a$.\n",
    "- It means that $(a,b)\\in \\textbf{R}$ then $(b,a)\\in \\textbf{R}$.\n",
    "- A relation $\\textbf{R}$ on set A is **not** symmetric if whenever $(a,b)\\in \\textbf{R}$ then $(b,a)\\notin \\textbf{R}$."
   ]
  },
  {
   "cell_type": "markdown",
   "id": "55aa3a9d",
   "metadata": {},
   "source": [
    "### Example:\n",
    "- Consider the following five relation on the set A = {1,2,3,4}:\n",
    "\\begin{equation}\n",
    "R_1 = \\{\\{1,1\\},\\{1,2\\},\\{2,3\\},\\{1,3\\},\\{4,4\\}\\} \\\\\n",
    "R_2 = \\{\\{1,1\\},\\{1,2\\},\\{2,1\\},\\{2,2\\},\\{3,3\\},\\{4,4\\}\\} \\\\\n",
    "R_3 = \\{\\{1,3,\\},\\{2,1\\}\\} \\\\\n",
    "R_4 = \\emptyset \\\\\n",
    "R_5 = AxA\n",
    "\\end{equation}<br>\n",
    "**HINT:** A relation $\\textbf{R}$ on a set A is symmetric if $(a,b)\\in \\textbf{R}$ then $(b,a)\\in \\textbf{R}$.<br> \n",
    "$\\to$ This means that if $\\{a,b\\} = \\{\\{1,2\\}\\} \\ \\in \\textbf{R}$ then $\\{b,a\\} = \\{\\{2,1\\}\\} \\ \\in \\textbf{R}$ or if $\\{a,b\\} = \\{\\{1,3\\}\\} \\ \\in \\textbf{R}$ then $\\{b,a\\} = \\{\\{3,1\\}\\} \\ \\in \\textbf{R}$.<br>\n",
    "\\begin{equation}\n",
    "R_2 = \\{\\{1,1\\},\\{1,2\\},\\{2,1\\},\\{2,2\\},\\{3,3\\},\\{4,4\\}\\} \\\\\n",
    "R_5 = AxA\n",
    "\\end{equation} <br> <br>\n",
    "$\\to$ The answer is $R_2$ and $R_5$."
   ]
  },
  {
   "cell_type": "code",
   "execution_count": 3,
   "id": "62e77c4a",
   "metadata": {},
   "outputs": [
    {
     "name": "stdout",
     "output_type": "stream",
     "text": [
      "[(1, 1), (1, 2), (2, 3), (1, 3), (4, 4)]\n",
      "  symmetric:  False\n",
      "[(1, 1), (1, 2), (2, 1), (2, 2), (3, 3), (4, 4)]\n",
      "  symmetric:  True\n",
      "[(1, 3), (2, 1)]\n",
      "  symmetric:  False\n",
      "[()]\n"
     ]
    },
    {
     "ename": "ValueError",
     "evalue": "not enough values to unpack (expected 2, got 0)",
     "output_type": "error",
     "traceback": [
      "\u001b[1;31m---------------------------------------------------------------------------\u001b[0m",
      "\u001b[1;31mValueError\u001b[0m                                Traceback (most recent call last)",
      "Cell \u001b[1;32mIn[3], line 16\u001b[0m\n\u001b[0;32m     14\u001b[0m \u001b[38;5;28;01mfor\u001b[39;00m R \u001b[38;5;129;01min\u001b[39;00m [R1, R2, R3, R4, R5]:\n\u001b[0;32m     15\u001b[0m     \u001b[38;5;28mprint\u001b[39m(R)\n\u001b[1;32m---> 16\u001b[0m     \u001b[38;5;28mprint\u001b[39m(\u001b[38;5;124m\"\u001b[39m\u001b[38;5;124m  symmetric: \u001b[39m\u001b[38;5;124m\"\u001b[39m, \u001b[43msymmetric\u001b[49m\u001b[43m(\u001b[49m\u001b[43mR\u001b[49m\u001b[43m,\u001b[49m\u001b[43m \u001b[49m\u001b[43mA\u001b[49m\u001b[43m)\u001b[49m)\n",
      "Cell \u001b[1;32mIn[3], line 3\u001b[0m, in \u001b[0;36msymmetric\u001b[1;34m(R, A)\u001b[0m\n\u001b[0;32m      1\u001b[0m \u001b[38;5;28;01mdef\u001b[39;00m \u001b[38;5;21msymmetric\u001b[39m(R, A):\n\u001b[0;32m      2\u001b[0m \u001b[38;5;250m    \u001b[39m\u001b[38;5;124;03m\"\"\"Returns True if a relation R on set A is symmetric, False otherwise.\"\"\"\u001b[39;00m\n\u001b[1;32m----> 3\u001b[0m     \u001b[38;5;28;01mfor\u001b[39;00m a, b \u001b[38;5;129;01min\u001b[39;00m R:\n\u001b[0;32m      4\u001b[0m         \u001b[38;5;28;01mif\u001b[39;00m (b, a) \u001b[38;5;129;01mnot\u001b[39;00m \u001b[38;5;129;01min\u001b[39;00m R:\n\u001b[0;32m      5\u001b[0m             \u001b[38;5;28;01mreturn\u001b[39;00m \u001b[38;5;28;01mFalse\u001b[39;00m\n",
      "\u001b[1;31mValueError\u001b[0m: not enough values to unpack (expected 2, got 0)"
     ]
    }
   ],
   "source": [
    "def symmetric(R, A):\n",
    "    \"\"\"Returns True if a relation R on set A is symmetric, False otherwise.\"\"\"\n",
    "    for a, b in R:\n",
    "        if (b, a) not in R:\n",
    "            return False\n",
    "    return True\n",
    "\n",
    "A = set([1, 2, 3, 4])\n",
    "R1 = [(1, 1), (1, 2), (2, 3), (1, 3), (4, 4)]\n",
    "R2 = [(1, 1), (1, 2), (2, 1),(2,2),(3,3),(4,4)]\n",
    "R3 = [(1,3),(2,1)]\n",
    "R4 = [()]\n",
    "R5 =[(x0, y0) for x0 in A for y0 in A]\n",
    "for R in [R1, R2, R3, R4, R5]:\n",
    "    print(R)\n",
    "    print(\"  symmetric: \", symmetric(R, A))"
   ]
  },
  {
   "cell_type": "markdown",
   "id": "f3c5dcf1",
   "metadata": {},
   "source": [
    "# Transitive Relation\n",
    "---\n",
    "- A relation $\\textbf{R}$ on a set $\\textbf{A}$ is said to be transitive if whenever $a\\textbf{R}b$ and $b\\textbf{R}c$ and $a\\textbf{R}c$ $\\in \\textbf{R}$.<br>\n",
    "$\\to$ **HINT:** For transitive relations to be true consider the sets {a,b} and {b,c} $\\in \\textbf{R}$, then {a,c} $\\in \\textbf{R}$."
   ]
  },
  {
   "cell_type": "markdown",
   "id": "1dd289ba",
   "metadata": {},
   "source": [
    "### Example:\n",
    "- Consider the following five relation on the set A = {1,2,3,4}:\n",
    "\\begin{equation}\n",
    "R_1 = \\{\\{1,1\\},\\{1,2\\},\\{2,3\\},\\{1,3\\},\\{4,4\\}\\} \\\\\n",
    "R_2 = \\{\\{1,1\\},\\{1,2\\},\\{2,1\\},\\{2,2\\},\\{3,3\\},\\{4,4\\}\\} \\\\\n",
    "R_3 = \\{\\{1,3,\\},\\{2,1\\}\\} \\\\\n",
    "R_4 = AxA\n",
    "\\end{equation}<br>\n",
    "\n",
    "$\n",
    "R_1 = \\{\\{1,1\\},\\{1,2\\},\\{2,3\\},\\{1,3\\},\\{4,4\\}\\} \\\\\n",
    "\\to Let \\{a,b\\} = \\{1,2\\}, and \\{b,c\\} = \\{2,3\\}, and \\{a,c\\} = \\{1,3\\} \\\\\n",
    "\\\\ \\therefore R_1 \\ is \\ Transitive$\n",
    "\n",
    "$R_2 = \\{\\{1,1\\},\\{1,2\\},\\{2,1\\},\\{2,2\\},\\{3,3\\},\\{4,4\\}\\}$<br>\n",
    "$\\to$ **HINT:** There is nothing in the definition that says $a\\neq c$<br>\n",
    "$\\to Let \\{a,b\\} = \\{1,2\\}, and \\{b,c\\} = \\{2,1\\}, and \\{a,c\\} = \\{1,1\\}$<br>\n",
    "$\\therefore R_2 \\ is \\ Transitive $<br>\n",
    "$R_3 = \\{\\{1,3,\\},\\{2,1\\}\\}$<br>\n",
    "$\\therefore R_3 \\ is \\ Not \\ transitive $<br>\n",
    "$R_4 = AxA$<br>\n",
    "$\\therefore R_4 \\ is \\ obviously \\ transitive $"
   ]
  },
  {
   "cell_type": "markdown",
   "id": "a3eccb4b",
   "metadata": {},
   "source": [
    "### <font color=red>ASSIGNMENT</font>\n",
    "---\n",
    "- Create a python function that will determine if a set is transitive or not."
   ]
  },
  {
   "cell_type": "markdown",
   "id": "0c74902f",
   "metadata": {},
   "source": [
    "# Equivalence of a Relation\n",
    "---\n",
    "- Consider a given set, A. Where $A\\neq\\emptyset$. Let $a,b,c \\in A$.\n",
    "- Also consider all the relations,$\\textbf{R}$, on set A.\n",
    "- A relation, $\\textbf{R}$ on A os an equiva;ence relatopn if $\\textbf{R}$ is reflexive, symmetric, and transitive.\n",
    "- That is, $\\textbf{R}$ is an equivalence relation on A if it has one of the following three properties:<br>\n",
    "- $\\forall a \\in A, \\ a\\textbf{R}a$.\n",
    "- $If \\ a\\textbf{R}b, \\ then \\ b\\textbf{R}a$.\n",
    "- $if  \\ a =b, \\ b=c, \\ then \\ a=c$.\n",
    "\n",
    "### Example\n",
    "- Consider the set A = {1,2,3}.\n",
    "- Consider the relation $\\textbf{R}$ on A such that $\\textbf{R} = \\{\\{1,1\\},\\{1,2\\},\\{2,1\\},\\{2,2\\},\\{3,3\\}\\}$.<br>\n",
    "$\\to$ **OBSERVATION 1:** $(a,a)\\in \\textbf{R}$ for $\\{\\{1,1\\}\\}$ and $\\{\\{3,3\\}\\}$, hence we can say the relation is reflexive.<br>\n",
    "$\\to$ **OBSERVATION 2:** $(a,b)\\in \\textbf{R}$  and $(b,a)\\in \\textbf{R}$ for $\\{\\{1,2\\}\\}$ and $\\{\\{2,1\\}\\}$, hence we can say the relation is symmetric.<br>\n",
    "$\\to$ **HENCE:** This is an equivalence relation on set A."
   ]
  },
  {
   "cell_type": "markdown",
   "id": "7a8940a3",
   "metadata": {},
   "source": [
    "# Directed Graphs of Relation on Sets\n",
    "---\n",
    "- A directed graph is one way of showing relations on set.\n",
    "- A directed graph consist of a node, which is the element of the relation, $R$, and a directed edges pointing from $a \\to b$."
   ]
  },
  {
   "cell_type": "markdown",
   "id": "f7cc358a",
   "metadata": {},
   "source": [
    "### Example on creating a directed graph\n",
    "---\n",
    "- Given a relation $R$ on the set $A$.\n",
    "- Let set $A = \\{1,2,3,4\\}$\n",
    "- Let $R = \\{\\{1,2\\},\\{2,2\\},\\{2,4\\},\\{3,2\\},\\{3,4\\},\\{4,1\\},\\{4,3\\}\\}$\n",
    "- Create a directed graph of $R$."
   ]
  },
  {
   "cell_type": "markdown",
   "id": "8308659e",
   "metadata": {},
   "source": [
    "<font color=red>**WARNING**:<br>\n",
    "    1. Install graphviz and networkx <br>\n",
    "    2. graphviz must in in your environment path<font>"
   ]
  },
  {
   "cell_type": "code",
   "execution_count": null,
   "id": "bd6097b1",
   "metadata": {},
   "outputs": [],
   "source": [
    "### Pythonic Solution\n",
    "import networkx as nx\n",
    "G = nx.MultiDiGraph()\n",
    "\n",
    "G.add_edge('1','2')\n",
    "G.add_edge('2','2')\n",
    "G.add_edge('2','4')\n",
    "G.add_edge('3','2')\n",
    "G.add_edge('4','1')\n",
    "G.add_edge('4','3')\n",
    "from networkx.drawing import nx_pydot\n",
    "from graphviz import Source\n",
    "\n",
    "nx_pydot.write_dot(G, 'multig.dot')\n",
    "Source.from_file('multig.dot')"
   ]
  },
  {
   "cell_type": "markdown",
   "id": "043fd4d8",
   "metadata": {},
   "source": [
    "## Application of Directed Graphs"
   ]
  },
  {
   "cell_type": "markdown",
   "id": "5ac926be",
   "metadata": {},
   "source": [
    "### A Complicated Cartesian Product\n",
    "---\n",
    "- Given $A = \\{1,2\\}$ \n",
    "- Given $B = \\{x,y,z\\}$ \n",
    "- Given $C = \\{3,4\\}$ <br>\n",
    "Find $AxBxC$"
   ]
  },
  {
   "cell_type": "code",
   "execution_count": null,
   "id": "547534e6",
   "metadata": {},
   "outputs": [],
   "source": [
    "import networkx as nx\n",
    "G = nx.MultiDiGraph()\n",
    "G.add_edge('Origin','1')\n",
    "G.add_edge('Origin','2')\n",
    "G.add_edge('1','x')\n",
    "G.add_edge('1','y')\n",
    "G.add_edge('1','z')\n",
    "G.add_edge('2','x')\n",
    "G.add_edge('2','y')\n",
    "G.add_edge('2','z')\n",
    "G.add_edge('x','3')\n",
    "G.add_edge('x','4')\n",
    "G.add_edge('y','3')\n",
    "G.add_edge('y','4')\n",
    "G.add_edge('z','3')\n",
    "G.add_edge('z','4')\n",
    "from networkx.drawing import nx_pydot\n",
    "from graphviz import Source\n",
    "\n",
    "nx_pydot.write_dot(G, 'multig.dot')\n",
    "Source.from_file('multig.dot')"
   ]
  },
  {
   "cell_type": "markdown",
   "id": "262b7088",
   "metadata": {},
   "source": [
    "from the directed graph above the Cartesian Product:<br>\n",
    "$AxBxC = \\\\\n",
    "\\{ \\\\\n",
    "\\{1,x,3\\},\\{1,x,4\\} \\\\\n",
    ",\\{1,y,3\\},\\{1,y,4\\} \\\\ \n",
    " ,\\{1,z,3\\},\\{1,z,4\\} \\\\ \n",
    "\\{\\{2,x,3\\},\\{2,x,4\\} \\\\\n",
    ",\\{2,y,3\\},\\{2,y,4\\} \\\\ \n",
    " ,\\{2,z,3\\},\\{2,z,4\\} \\\\ \n",
    " \\}$"
   ]
  },
  {
   "cell_type": "markdown",
   "id": "ead54874",
   "metadata": {},
   "source": [
    "References\n",
    "- Discrete Mathematics with Appications, $4^{th}$, Epp\n",
    "- Essentials of Discrete Mathematics, $3^{rd}$ Edition, Hunter\n",
    "- Schaum's Outline Discrete Mathematics, $3^{rd}$ Edition, Lipchitz & Lipson\n",
    "- Discrete Mathematics and Its Application,$7^{th}$ Rosen\n"
   ]
  },
  {
   "cell_type": "markdown",
   "id": "a29fdb4f",
   "metadata": {},
   "source": [
    "# Assignments\n",
    "---\n",
    "### Instructions:\n",
    "#### 1. Use Latex programming to show your solution.\n",
    "#### 2. For problems requiring the identification of reflexive, symmetric, and transitive properties of relation, show both manual solution via latex, and the solution using your python function.\n",
    "---\n",
    "* Given $A = \\{1,2,3,4\\}$ and $B=\\{x,y,z\\}$. Let $R$ be a relation from $A \\to B$:\n",
    "\\begin{equation}\n",
    "\\textbf{R} = \\{\n",
    "\\{1,y\\},\\{1,z\\},\\{3,y\\},\\{4,x\\},\\{4,z\\}\n",
    "\\}\n",
    "\\end{equation}\n",
    "1. Find all $aRb$.\n",
    "2. Find $R^{-1}$.\n",
    "3. Determine the domain and range of $R$.\n",
    "4. Check if $R$ is a reflexive relation.\n",
    "5. Check if $R$ is a symmetric relation.\n",
    "<br>\n",
    "<br>\n",
    "<br>\n",
    "* Given $A = \\{1,2,3,4\\}$,$C=\\{a,b,c\\}$, and $C=\\{x,y,z\\}$. Let $R$ be a relation from $A \\to B$:\n",
    "\\begin{equation}\n",
    "\\textbf{R} = \\{\n",
    "\\{1,b\\},\\{2,a\\},\\{2,c\\}\n",
    "\\}\n",
    "\\end{equation}\n",
    "<br>\n",
    "Also Let $S$ be a relation from $B \\to C$:\n",
    "\\begin{equation}\n",
    "\\textbf{S} = \\{\n",
    "\\{a,y\\},\\{b,x\\},\\{c,y\\},,\\{c,z\\}\n",
    "\\}\n",
    "\\end{equation}\n",
    "1. Find the composition relation $\\textbf{R}\\circ\\textbf{S}$.\n",
    "2. Find $R^{-1}$.\n",
    "3. Find $S^{-1}$.\n",
    "4. Determine the domain and range of $R$.\n",
    "5. Check if $R$ is a reflexive relation.\n",
    "6. Check if $R$ is a symmetric relation.\n",
    "7. Determine the domain and range of $S$.\n",
    "8. Check if $S$ is a reflexive relation.\n",
    "9. Check if $S$ is a symmetric relation.\n",
    "\n",
    "<br>\n",
    "* Given $A = \\{1,2,3,4\\}$. Let $R$ be a relation from $A \\to B$:\n",
    "\\begin{equation}\n",
    "\\textbf{R} = \\{\n",
    "\\{1,1\\},\\{2,2\\},\\{2,3\\},\\{3,2\\},\\{4,2\\},\\{4,4\\}\n",
    "\\}\n",
    "\\end{equation}\n",
    "<br>\n",
    "1. Find the composition relation $\\textbf{R}\\circ\\textbf{R}$.<br>\n",
    "2. Draw the directed graph of $R^{-1}$.\n",
    "3. Draw the directed graph of $R$.<br><br><br>\n",
    "* Let $R$ and $S$ be relations on $A = \\{1,2,3\\}$<br>\n",
    "let:<br>\n",
    "$\\textbf{R} = \\{\n",
    "\\{1,1\\},\\{1,2\\},\\{2,3\\},\\{3,1\\},\\{3,3\\}\n",
    "\\}$<br>\n",
    "let:<br>\n",
    "$\\textbf{S} = \\{\n",
    "\\{1,2\\},\\{1,3\\},\\{2,1\\},\\{3,3\\}\n",
    "\\}$<br>\n",
    "Find:<br>\n",
    "1. $R \\cup S$.<br>\n",
    "2. $R \\cap S$.<br>\n",
    "3. $R^{c}$.<br>\n",
    "4. $R \\circ S$.<br>\n",
    "5. $S \\circ S$.<br><br><br>\n",
    "* Consider the five relations on the set $A = \\{1,2,3\\}$:\n",
    "\\begin{equation}\n",
    "\\textbf{R} = \\{\n",
    "\\{1,1\\},\\{1,2\\},\\{1,3\\},\\{3,3\\}\n",
    "\\}\n",
    "\\end{equation}\n",
    "<br>\n",
    "\\begin{equation}\n",
    "\\textbf{S} = \\{\n",
    "\\{1,1\\},\\{1,2\\},\\{2,1\\},\\{2,2\\},\\{3,3\\}\n",
    "\\}\n",
    "\\end{equation}\n",
    "<br>\n",
    "\\begin{equation}\n",
    "\\textbf{T} = \\{\n",
    "\\{1,1\\},\\{1,2\\},\\{2,2\\},\\{2,3\\},\n",
    "\\}\n",
    "\\end{equation}\n",
    "<br>\n",
    "Which of the relations above are:<br>\n",
    "1. Reflexive.<br>\n",
    "2. Symmetric or anti-symmetric.<br>\n",
    "3. Transitive."
   ]
  },
  {
   "cell_type": "code",
   "execution_count": null,
   "id": "0f84f0f6",
   "metadata": {},
   "outputs": [],
   "source": []
  }
 ],
 "metadata": {
  "kernelspec": {
   "display_name": "Python 3 (ipykernel)",
   "language": "python",
   "name": "python3"
  },
  "language_info": {
   "codemirror_mode": {
    "name": "ipython",
    "version": 3
   },
   "file_extension": ".py",
   "mimetype": "text/x-python",
   "name": "python",
   "nbconvert_exporter": "python",
   "pygments_lexer": "ipython3",
   "version": "3.11.4"
  }
 },
 "nbformat": 4,
 "nbformat_minor": 5
}

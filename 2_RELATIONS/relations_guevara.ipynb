{
 "cells": [
  {
   "cell_type": "markdown",
   "metadata": {},
   "source": [
    "### Relations Assignment - Trent Lee R. Guevara - Group 6 - BSIT-1 - Discrete Math 1"
   ]
  },
  {
   "cell_type": "markdown",
   "metadata": {},
   "source": [
    "### <font color=red>ASSIGNMENT</font>\n",
    "---\n",
    "- Create a python function that will determine if a set is transitive or not."
   ]
  },
  {
   "cell_type": "markdown",
   "metadata": {},
   "source": [
    "R1 = {{1,1},{1,2},{2,3},{1,3},{4,4}} <br>\n",
    "R2 = {{1,1},{1,2},{2,1},{2,2},{3,3},{4,4}} <br>\n",
    "R3 = {{1,3,},{2,1}} <br>\n",
    "R4 = AxA"
   ]
  },
  {
   "cell_type": "markdown",
   "metadata": {},
   "source": [
    "# Answer $\\rightarrow$"
   ]
  },
  {
   "cell_type": "code",
   "execution_count": 227,
   "metadata": {},
   "outputs": [
    {
     "name": "stdout",
     "output_type": "stream",
     "text": [
      "{(4, 4), (2, 3), (1, 2), (1, 1), (1, 3)}\n",
      "  transitive:  True\n",
      "{(4, 4), (1, 2), (3, 3), (2, 1), (2, 2), (1, 1)}\n",
      "  transitive:  True\n",
      "{(1, 3), (2, 1)}\n",
      "  transitive:  False\n",
      "{(4, 4), (2, 4), (1, 2), (2, 1), (3, 4), (4, 1), (3, 1), (4, 3), (1, 1), (1, 4), (4, 2), (2, 3), (3, 3), (2, 2), (3, 2), (1, 3)}\n",
      "  transitive:  True\n"
     ]
    }
   ],
   "source": [
    "def transitive(Relation):\n",
    "    for a, b in Relation:\n",
    "        for c, d in Relation:\n",
    "            if b == c:\n",
    "                if (a,d) not in Relation:\n",
    "                    return False    \n",
    "    return True\n",
    "\n",
    "A ={1, 2, 3, 4}\n",
    "R1 = {(1, 1), (1, 2), (2, 3), (1, 3), (4, 4)}\n",
    "R2 = {(1, 1), (1, 2), (2, 1),(2,2),(3,3),(4,4)}\n",
    "R3 = {(1,3),(2,1)}\n",
    "R4 = {(a,b) for a in A for b in A}\n",
    "for R in [R1, R2, R3, R4]:\n",
    "    print(R)\n",
    "    print(\"  transitive: \", transitive(R))"
   ]
  },
  {
   "cell_type": "markdown",
   "metadata": {},
   "source": [
    "## Defining Symmetry Function"
   ]
  },
  {
   "cell_type": "code",
   "execution_count": 209,
   "metadata": {},
   "outputs": [],
   "source": [
    "def symmetric(R):\n",
    "    for (a, b) in R:\n",
    "        if (b, a) not in R:\n",
    "            return False\n",
    "    return True"
   ]
  },
  {
   "cell_type": "markdown",
   "metadata": {},
   "source": [
    "## Defining Reflexivity Function"
   ]
  },
  {
   "cell_type": "code",
   "execution_count": 210,
   "metadata": {},
   "outputs": [],
   "source": [
    "def reflexive(R, A):\n",
    "    for a in A:\n",
    "        if (a, a) not in R:\n",
    "            return False\n",
    "    return True"
   ]
  },
  {
   "cell_type": "markdown",
   "metadata": {},
   "source": [
    "# Assignments\n",
    "---\n",
    "### Instructions:\n",
    "#### 1. Use Latex programming to show your solution.\n",
    "#### 2. For problems requiring the identification of reflexive, symmetric, and transitive properties of relation, show both manual solution via latex, and the solution using your python function.\n",
    "---\n",
    "# Given $\\rightarrow$\n",
    "* Given $A = \\{1,2,3,4\\}$ and $B=\\{x,y,z\\}$. Let $R$ be a relation from $A \\to B$:\n",
    "\\begin{equation}\n",
    "\\textbf{R} = \\{\n",
    "\\{1,y\\},\\{1,z\\},\\{3,y\\},\\{4,x\\},\\{4,z\\}\n",
    "\\}\n",
    "\\end{equation}\n",
    "1. Find all $aRb$.\n",
    "2. Find $R^{-1}$.\n",
    "3. Determine the domain and range of $R$.\n",
    "4. Check if $R$ is a reflexive relation.\n",
    "5. Check if $R$ is a symmetric relation."
   ]
  },
  {
   "cell_type": "markdown",
   "metadata": {},
   "source": [
    "# Answer $\\rightarrow$"
   ]
  },
  {
   "cell_type": "markdown",
   "metadata": {},
   "source": [
    "1. To check for all $aRb$, we find AxB."
   ]
  },
  {
   "cell_type": "code",
   "execution_count": 211,
   "metadata": {},
   "outputs": [
    {
     "name": "stdout",
     "output_type": "stream",
     "text": [
      "[(1, 'z'), (1, 'x'), (1, 'y'), (2, 'z'), (2, 'x'), (2, 'y'), (3, 'z'), (3, 'x'), (3, 'y'), (4, 'z'), (4, 'x'), (4, 'y')]\n"
     ]
    }
   ],
   "source": [
    "A = set([1, 2, 3, 4])\n",
    "B = set(['x','y','z'])\n",
    "Cartesian = [(a,b) for a in A for b in B]\n",
    "print(Cartesian)"
   ]
  },
  {
   "cell_type": "markdown",
   "metadata": {},
   "source": [
    "- Checking from the results, $R$ = {{1,y}$\\checkmark$,{1,z}$\\checkmark$,{3,y}$\\checkmark$,{4,x}$\\checkmark$,{4,z}$\\checkmark$}\n",
    "- With respect to the relation, $R: 1Ry, 1Rz, 3Ry, 4Rx, 4Rz$"
   ]
  },
  {
   "cell_type": "markdown",
   "metadata": {},
   "source": [
    "2. $R$ = {{1,y},{1,z},{3,y},{4,x},{4,z}}\n",
    "- $R^{-1}$ = {{y,1},{z,1},{y,3},{x,4},{z,4}}"
   ]
  },
  {
   "cell_type": "markdown",
   "metadata": {},
   "source": [
    "3. \n",
    "- {1,y}: domain a is 1 and range b is y.\n",
    "- {1,z}: domain a is 1 and range b is z.\n",
    "- {3,y}: domain a is 3 and range b is y.\n",
    "- {4,x}: domain a is 4 and range b is x.\n",
    "- {4,z}: domain a is 4 and range b is z.\n",
    "- The domain of $R$ is {1,3,4} and the range is {x,y,z}"
   ]
  },
  {
   "cell_type": "markdown",
   "metadata": {},
   "source": [
    "4. $\\LaTeX$ Solution:\n",
    "A relation $\\textbf{R}$ on a set A is reflexive $\\iff a\\textbf{R}a  \\ \\forall \\ a \\in A$.\n",
    "- For element 1, does $a\\textbf{R}a$ = {1,1} exist? No.\n",
    "- Does not need to go through other elements for checking reflexivity, as first prerequisite {1,1} already does not exist.\n",
    "- $R$ is not reflexive."
   ]
  },
  {
   "cell_type": "markdown",
   "metadata": {},
   "source": [
    "4. $Python$ Solution:"
   ]
  },
  {
   "cell_type": "code",
   "execution_count": 212,
   "metadata": {},
   "outputs": [
    {
     "name": "stdout",
     "output_type": "stream",
     "text": [
      "A =  {1, 2, 3, 4}\n",
      "B =  {'z', 'x', 'y'}\n",
      "R =  {(4, 'z'), (3, 'y'), (1, 'z'), (4, 'x'), (1, 'y')}\n",
      "Is R reflexive in A?: False\n",
      "Is R reflexive in B?: False\n"
     ]
    }
   ],
   "source": [
    "A = {1,2,3,4}\n",
    "B = {'x','y','z'}\n",
    "R = {(1,'y'),(1,'z'),(3,'y'),(4,'x'),(4,'z')}\n",
    "print(\"A = \", A)\n",
    "print(\"B = \", B)\n",
    "print(\"R = \", R)\n",
    "print (\"Is R reflexive in A?:\", reflexive(R,A))\n",
    "print (\"Is R reflexive in B?:\", reflexive(R,B))"
   ]
  },
  {
   "cell_type": "code",
   "execution_count": null,
   "metadata": {},
   "outputs": [],
   "source": []
  },
  {
   "cell_type": "markdown",
   "metadata": {},
   "source": [
    "5. $\\LaTeX$ Solution:\n",
    "- For symmetry, for every $a\\textbf{R}b$ then $b\\textbf{R}a$ must exist.\n",
    "- For ordered pair {1,y}, does $b\\textbf{R}a$ = {y,1} exist? No.\n",
    "- Does not need to go through other elements for checking symmetry, as first prerequisite {y,1} already does not exist.\n",
    "- $R$ is not symmetric."
   ]
  },
  {
   "cell_type": "markdown",
   "metadata": {},
   "source": [
    "5. $Python$ Solution:"
   ]
  },
  {
   "cell_type": "code",
   "execution_count": 213,
   "metadata": {},
   "outputs": [
    {
     "name": "stdout",
     "output_type": "stream",
     "text": [
      "R =  {(4, 'z'), (3, 'y'), (1, 'z'), (4, 'x'), (1, 'y')}\n",
      "Is the relation symmetric? : False\n"
     ]
    }
   ],
   "source": [
    "print (\"R = \",R)\n",
    "print(\"Is the relation symmetric? :\", symmetric(R))"
   ]
  },
  {
   "cell_type": "markdown",
   "metadata": {},
   "source": [
    "---\n",
    "# Given $\\rightarrow$"
   ]
  },
  {
   "cell_type": "markdown",
   "metadata": {},
   "source": [
    "* Given $A = \\{1,2,3,4\\}$,$B=\\{a,b,c\\}$, and $C=\\{x,y,z\\}$ . Let $R$ be a relation from $A \\to B$:\n",
    "\\begin{equation}\n",
    "\\textbf{R} = \\{\n",
    "\\{1,b\\},\\{2,a\\},\\{2,c\\}\n",
    "\\}\n",
    "\\end{equation}\n",
    "<br>\n",
    "\n",
    "Also Let $S$ be a relation from $B \\to C$:\n",
    "\\begin{equation}\n",
    "\\textbf{S} = \\{\n",
    "\\{a,y\\},\\{b,x\\},\\{c,y\\},,\\{c,z\\}\n",
    "\\}\n",
    "\\end{equation}\n",
    "1. Find the composition relation $\\textbf{R}\\circ\\textbf{S}$.\n",
    "2. Find $R^{-1}$.\n",
    "3. Find $S^{-1}$.\n",
    "4. Determine the domain and range of $R$.\n",
    "5. Check if $R$ is a reflexive relation.\n",
    "6. Check if $R$ is a symmetric relation.\n",
    "7. Determine the domain and range of $S$.\n",
    "8. Check if $S$ is a reflexive relation.\n",
    "9. Check if $S$ is a symmetric relation."
   ]
  },
  {
   "cell_type": "markdown",
   "metadata": {},
   "source": [
    "# Answer $\\rightarrow$"
   ]
  },
  {
   "cell_type": "markdown",
   "metadata": {},
   "source": [
    "1. \n",
    "- For {1,b} $\\in$ R = aRb, {b,x} $\\in$ S = bRc. $\\quad \\therefore$ R $\\circ$ S, aRc = {1,x}\n",
    "- For {2,a} $\\in$ R = aRb, {a,y} $\\in$ S = bRc. $\\quad \\therefore$ R $\\circ$ S, aRc = {2,y}\n",
    "- For {2,c} $\\in$ R = aRb, {c,y}, {c,z} $\\in$ S = bRc. $\\quad \\therefore$ R $\\circ$ S, aRc = {2,y}, {2,z}\n",
    "- R  $\\circ$ S = {{1,x}, {2,y}, {2,z}}\n",
    "<br>\n",
    "\n",
    "2. \n",
    "- R = {{1,b}, {2,a}, {2,c}}\n",
    "- R $^{-1}$ = {{b,1}, {a,2}, {c,2}}\n",
    "\n",
    "<br>\n",
    "\n",
    "3. \n",
    "- S = {{a,y}, {b,x}, {c,y}, {c,z}} \n",
    "- S $^{-1}$ = {{y,a}, {x,b, {y,c}, {z,c}}\n",
    "\n",
    "4. Determine the domain and range of $R$.\n",
    "  - {1,b}: domain a is 1 and range b is b.\n",
    "  - {2,a}: domain a is 2 and range b is a.\n",
    "  - {2,c}: domain a is 2 and range b is c.\n",
    "- The Domain is {1, 2}\n",
    "- The Range is {a, b, c}\n"
   ]
  },
  {
   "cell_type": "markdown",
   "metadata": {},
   "source": [
    "5. $\\LaTeX$ Solution:\n",
    "A relation $\\textbf{R}$ is reflexive $\\iff a\\textbf{R}a  \\ \\forall \\ a \\in A$.\n",
    "- For element 1, does $a\\textbf{R}a$ = {1,1} exist? No.\n",
    "- $R$ is not reflexive."
   ]
  },
  {
   "cell_type": "markdown",
   "metadata": {},
   "source": [
    "5. $Python$ Solution:"
   ]
  },
  {
   "cell_type": "code",
   "execution_count": 214,
   "metadata": {},
   "outputs": [
    {
     "name": "stdout",
     "output_type": "stream",
     "text": [
      "A =  {1, 2, 3, 4}\n",
      "B =  {'c', 'b', 'a'}\n",
      "C =  {'x', 'y'}\n",
      "R =  {(2, 'a'), (1, 'b'), (2, 'c')}\n",
      "Is the relation reflexive in A?:  False\n",
      "Is the relation reflexive in B?:  False\n",
      "Is the relation reflexive in C?:  False\n"
     ]
    }
   ],
   "source": [
    "A = {1,2,3,4}\n",
    "B = {'a','b','c'}\n",
    "C = {'x','y','x'}\n",
    "R = {(1,'b'),(2,'a'),(2,'c')}\n",
    "S = {('a','y'),('b','x'),('c','y'),('c','z')}\n",
    "print(\"A = \",A)\n",
    "print(\"B = \",B)\n",
    "print(\"C = \",C)\n",
    "print(\"R = \",R)\n",
    "print(\"Is the relation reflexive in A?: \", reflexive(R,A))\n",
    "print(\"Is the relation reflexive in B?: \", reflexive(R,B))\n",
    "print(\"Is the relation reflexive in C?: \", reflexive(R,C))"
   ]
  },
  {
   "cell_type": "markdown",
   "metadata": {},
   "source": [
    "6. $\\LaTeX$ Solution:\n",
    "- For symmetry, for every $a\\textbf{R}b$ then $b\\textbf{R}a$ must exist.\n",
    "- For ordered pair {1,b}, does $b\\textbf{R}a$ = {b,1} exist? No.\n",
    "- $R$ is not symmetric."
   ]
  },
  {
   "cell_type": "markdown",
   "metadata": {},
   "source": [
    "6. $Python$ Solution:"
   ]
  },
  {
   "cell_type": "code",
   "execution_count": 215,
   "metadata": {},
   "outputs": [
    {
     "name": "stdout",
     "output_type": "stream",
     "text": [
      "R =  {(2, 'a'), (1, 'b'), (2, 'c')}\n",
      "Is the relation R symmetric?: False\n"
     ]
    }
   ],
   "source": [
    "print(\"R = \",R)\n",
    "print(\"Is the relation R symmetric?:\", symmetric(R))"
   ]
  },
  {
   "cell_type": "markdown",
   "metadata": {},
   "source": [
    "7. Determine the domain and range of $S$.\n",
    "  - {a,y}: domain a is a and range b is y.\n",
    "  - {b,x}: domain a is b and range b is x.\n",
    "  - {c,y}: domain a is c and range b is y.\n",
    "  - {c,z}: domain a is c and range b is z.\n",
    "- The Domain is {a, b, c}\n",
    "- The Range is {x, y, z}"
   ]
  },
  {
   "cell_type": "markdown",
   "metadata": {},
   "source": [
    "8. $\\LaTeX$ Solution: relation $\\textbf{S}$ is reflexive $\\iff a\\textbf{S}a  \\ \\forall \\ a \\in A$.\n",
    "- For element a, does $a\\textbf{S}a$ = {a,a} exist? No.\n",
    "- $S$ is not reflexive.\n",
    "\n"
   ]
  },
  {
   "cell_type": "markdown",
   "metadata": {},
   "source": [
    "8. $Python$ Solution:"
   ]
  },
  {
   "cell_type": "code",
   "execution_count": 216,
   "metadata": {},
   "outputs": [
    {
     "name": "stdout",
     "output_type": "stream",
     "text": [
      "A =  {1, 2, 3, 4}\n",
      "B =  {'c', 'b', 'a'}\n",
      "C =  {'x', 'y'}\n",
      "S =  {('c', 'z'), ('b', 'x'), ('a', 'y'), ('c', 'y')}\n",
      "Is the relation S reflexive in A?:  False\n",
      "Is the relation S reflexive in B?:  False\n",
      "Is the relation S reflexive in C?:  False\n"
     ]
    }
   ],
   "source": [
    "print(\"A = \",A)\n",
    "print(\"B = \",B)\n",
    "print(\"C = \",C)\n",
    "print(\"S = \",S)\n",
    "print(\"Is the relation S reflexive in A?: \",reflexive(R,A))\n",
    "print(\"Is the relation S reflexive in B?: \",reflexive(R,B))\n",
    "print(\"Is the relation S reflexive in C?: \",reflexive(R,C))"
   ]
  },
  {
   "cell_type": "markdown",
   "metadata": {},
   "source": [
    "9. $\\LaTeX$ Solution: For symmetry, for every $a\\textbf{S}b$ then $b\\textbf{S}a$ must exist.\n",
    "- For ordered pair {a,y}, does $b\\textbf{S}a$ = {y,a} exist? No.\n",
    "- $S$ is not symmetric."
   ]
  },
  {
   "cell_type": "markdown",
   "metadata": {},
   "source": [
    "9. $Python$ Solution:"
   ]
  },
  {
   "cell_type": "code",
   "execution_count": 217,
   "metadata": {},
   "outputs": [
    {
     "name": "stdout",
     "output_type": "stream",
     "text": [
      "S = S {('c', 'z'), ('b', 'x'), ('a', 'y'), ('c', 'y')}\n",
      "Is relation S symmetric?:  False\n"
     ]
    }
   ],
   "source": [
    "print(\"S = S\",S)\n",
    "print(\"Is relation S symmetric?: \",symmetric(S))"
   ]
  },
  {
   "cell_type": "markdown",
   "metadata": {},
   "source": [
    "---"
   ]
  },
  {
   "cell_type": "markdown",
   "metadata": {},
   "source": [
    "# Given $\\rightarrow$"
   ]
  },
  {
   "cell_type": "markdown",
   "metadata": {},
   "source": [
    "* Given $A = \\{1,2,3,4\\}$. Let $R$ be a relation from $A \\to B$:\n",
    "\\begin{equation}\n",
    "\\textbf{R} = \\{\n",
    "\\{1,1\\},\\{2,2\\},\\{2,3\\},\\{3,2\\},\\{4,2\\},\\{4,4\\}\n",
    "\\}\n",
    "\\end{equation}\n",
    "<br>\n",
    "\n",
    "1. Find the composition relation $\\textbf{R}\\circ\\textbf{R}$.<br>\n",
    "2. Draw the directed graph of $R^{-1}$.\n",
    "3. Draw the directed graph of $R$."
   ]
  },
  {
   "cell_type": "markdown",
   "metadata": {},
   "source": [
    "# Answer $\\rightarrow$"
   ]
  },
  {
   "cell_type": "markdown",
   "metadata": {},
   "source": [
    "1. \n",
    "- For {1,1} $\\in$ R = aRb, {1,1} $\\in$ S = bRc. $\\quad \\therefore$ R $\\circ$ S, aRc = {1,1}\n",
    "- For {2,2} $\\in$ R = aRb, {2,2} {2,3} $\\in$ S = bRc. $\\quad \\therefore$ R $\\circ$ S, aRc = {2,2}, {2,3}\n",
    "- For {2,3} $\\in$ R = aRb, {3,2} $\\in$ S = bRc. $\\quad \\therefore$ R $\\circ$ S, aRc = {2,2}\n",
    "- For {3,2} $\\in$ R = aRb, {2,2}, {2,3} $\\in$ S = bRc. $\\quad \\therefore$ R $\\circ$ S, aRc = {3,2}, {3,3}\n",
    "- For {4,2} $\\in$ R = aRb, {2,3}, {2,2} $\\in$ S = bRc. $\\quad \\therefore$ R $\\circ$ S, aRc = {4,3}, {4,2}\n",
    "- For {4,4} $\\in$ R = aRb, {4,4}, {4,2} $\\in$ S = bRc. $\\quad \\therefore$ R $\\circ$ S, aRc = {4,4}, {4,2}\n",
    "- R $\\circ$ R = {{1,1}, {2,2}, {2,3}, {3,2}, {3,3}, {4,2}, {4,3}, {4,4}}"
   ]
  },
  {
   "cell_type": "markdown",
   "metadata": {},
   "source": [
    "2. \n",
    "- R = {{1,1}, {2,2}, {2,3}, {3,2}, {4,2}, {4,4}}\n",
    "- R $^{-1}$ = {{1,1}, {2,2} {3,2}, {2,3}, {2,4}, {4,4}}"
   ]
  },
  {
   "cell_type": "code",
   "execution_count": 218,
   "metadata": {},
   "outputs": [
    {
     "data": {
      "image/svg+xml": [
       "<?xml version=\"1.0\" encoding=\"UTF-8\" standalone=\"no\"?>\n",
       "<!DOCTYPE svg PUBLIC \"-//W3C//DTD SVG 1.1//EN\"\n",
       " \"http://www.w3.org/Graphics/SVG/1.1/DTD/svg11.dtd\">\n",
       "<!-- Generated by graphviz version 8.1.0 (20230707.0739)\n",
       " -->\n",
       "<!-- Pages: 1 -->\n",
       "<svg width=\"242pt\" height=\"116pt\"\n",
       " viewBox=\"0.00 0.00 242.00 116.00\" xmlns=\"http://www.w3.org/2000/svg\" xmlns:xlink=\"http://www.w3.org/1999/xlink\">\n",
       "<g id=\"graph0\" class=\"graph\" transform=\"scale(1 1) rotate(0) translate(4 112)\">\n",
       "<polygon fill=\"white\" stroke=\"none\" points=\"-4,4 -4,-112 238,-112 238,4 -4,4\"/>\n",
       "<!-- 1 -->\n",
       "<g id=\"node1\" class=\"node\">\n",
       "<title>1</title>\n",
       "<ellipse fill=\"none\" stroke=\"black\" cx=\"27\" cy=\"-90\" rx=\"27\" ry=\"18\"/>\n",
       "<text text-anchor=\"middle\" x=\"27\" y=\"-84.58\" font-family=\"Times New Roman,serif\" font-size=\"14.00\">1</text>\n",
       "</g>\n",
       "<!-- 1&#45;&gt;1 -->\n",
       "<g id=\"edge1\" class=\"edge\">\n",
       "<title>1&#45;&gt;1</title>\n",
       "<path fill=\"none\" stroke=\"black\" d=\"M46.9,-102.43C59.69,-105.68 72,-101.53 72,-90 72,-81.89 65.91,-77.44 57.85,-76.63\"/>\n",
       "<polygon fill=\"black\" stroke=\"black\" points=\"57.56,-73.23 47.9,-77.57 58.16,-80.2 57.56,-73.23\"/>\n",
       "</g>\n",
       "<!-- 2 -->\n",
       "<g id=\"node2\" class=\"node\">\n",
       "<title>2</title>\n",
       "<ellipse fill=\"none\" stroke=\"black\" cx=\"117\" cy=\"-90\" rx=\"27\" ry=\"18\"/>\n",
       "<text text-anchor=\"middle\" x=\"117\" y=\"-84.58\" font-family=\"Times New Roman,serif\" font-size=\"14.00\">2</text>\n",
       "</g>\n",
       "<!-- 2&#45;&gt;2 -->\n",
       "<g id=\"edge2\" class=\"edge\">\n",
       "<title>2&#45;&gt;2</title>\n",
       "<path fill=\"none\" stroke=\"black\" d=\"M136.9,-102.43C149.69,-105.68 162,-101.53 162,-90 162,-81.89 155.91,-77.44 147.85,-76.63\"/>\n",
       "<polygon fill=\"black\" stroke=\"black\" points=\"147.56,-73.23 137.9,-77.57 148.16,-80.2 147.56,-73.23\"/>\n",
       "</g>\n",
       "<!-- 3 -->\n",
       "<g id=\"node3\" class=\"node\">\n",
       "<title>3</title>\n",
       "<ellipse fill=\"none\" stroke=\"black\" cx=\"117\" cy=\"-18\" rx=\"27\" ry=\"18\"/>\n",
       "<text text-anchor=\"middle\" x=\"117\" y=\"-12.57\" font-family=\"Times New Roman,serif\" font-size=\"14.00\">3</text>\n",
       "</g>\n",
       "<!-- 2&#45;&gt;3 -->\n",
       "<g id=\"edge3\" class=\"edge\">\n",
       "<title>2&#45;&gt;3</title>\n",
       "<path fill=\"none\" stroke=\"black\" d=\"M111.12,-72.05C110.31,-64.4 110.06,-55.16 110.39,-46.56\"/>\n",
       "<polygon fill=\"black\" stroke=\"black\" points=\"113.93,-47.01 111.14,-36.79 106.95,-46.52 113.93,-47.01\"/>\n",
       "</g>\n",
       "<!-- 4 -->\n",
       "<g id=\"node4\" class=\"node\">\n",
       "<title>4</title>\n",
       "<ellipse fill=\"none\" stroke=\"black\" cx=\"189\" cy=\"-18\" rx=\"27\" ry=\"18\"/>\n",
       "<text text-anchor=\"middle\" x=\"189\" y=\"-12.57\" font-family=\"Times New Roman,serif\" font-size=\"14.00\">4</text>\n",
       "</g>\n",
       "<!-- 2&#45;&gt;4 -->\n",
       "<g id=\"edge4\" class=\"edge\">\n",
       "<title>2&#45;&gt;4</title>\n",
       "<path fill=\"none\" stroke=\"black\" d=\"M131.92,-74.5C141.86,-64.83 155.12,-51.94 166.35,-41.02\"/>\n",
       "<polygon fill=\"black\" stroke=\"black\" points=\"168.37,-43.97 173.1,-34.49 163.49,-38.95 168.37,-43.97\"/>\n",
       "</g>\n",
       "<!-- 3&#45;&gt;2 -->\n",
       "<g id=\"edge5\" class=\"edge\">\n",
       "<title>3&#45;&gt;2</title>\n",
       "<path fill=\"none\" stroke=\"black\" d=\"M122.86,-35.79C123.68,-43.42 123.93,-52.65 123.62,-61.27\"/>\n",
       "<polygon fill=\"black\" stroke=\"black\" points=\"120.07,-60.84 122.88,-71.05 127.06,-61.32 120.07,-60.84\"/>\n",
       "</g>\n",
       "<!-- 4&#45;&gt;4 -->\n",
       "<g id=\"edge6\" class=\"edge\">\n",
       "<title>4&#45;&gt;4</title>\n",
       "<path fill=\"none\" stroke=\"black\" d=\"M208.9,-30.43C221.69,-33.68 234,-29.53 234,-18 234,-9.89 227.91,-5.44 219.85,-4.63\"/>\n",
       "<polygon fill=\"black\" stroke=\"black\" points=\"219.56,-1.23 209.9,-5.57 220.16,-8.2 219.56,-1.23\"/>\n",
       "</g>\n",
       "</g>\n",
       "</svg>\n"
      ],
      "text/plain": [
       "<graphviz.sources.Source at 0x2269e4fed50>"
      ]
     },
     "execution_count": 218,
     "metadata": {},
     "output_type": "execute_result"
    }
   ],
   "source": [
    "### 2. Draw the directed graph of R^-1\n",
    "import networkx as nx\n",
    "G = nx.MultiDiGraph()\n",
    "\n",
    "G.add_edge('1','1')\n",
    "G.add_edge('2','2')\n",
    "G.add_edge('3','2')\n",
    "G.add_edge('2','3')\n",
    "G.add_edge('2','4')\n",
    "G.add_edge('4','4')\n",
    "from networkx.drawing import nx_pydot\n",
    "from graphviz import Source\n",
    "\n",
    "nx_pydot.write_dot(G, 'multig.dot')\n",
    "Source.from_file('multig.dot')"
   ]
  },
  {
   "cell_type": "code",
   "execution_count": 219,
   "metadata": {},
   "outputs": [
    {
     "data": {
      "image/svg+xml": [
       "<?xml version=\"1.0\" encoding=\"UTF-8\" standalone=\"no\"?>\n",
       "<!DOCTYPE svg PUBLIC \"-//W3C//DTD SVG 1.1//EN\"\n",
       " \"http://www.w3.org/Graphics/SVG/1.1/DTD/svg11.dtd\">\n",
       "<!-- Generated by graphviz version 8.1.0 (20230707.0739)\n",
       " -->\n",
       "<!-- Pages: 1 -->\n",
       "<svg width=\"170pt\" height=\"188pt\"\n",
       " viewBox=\"0.00 0.00 170.00 188.00\" xmlns=\"http://www.w3.org/2000/svg\" xmlns:xlink=\"http://www.w3.org/1999/xlink\">\n",
       "<g id=\"graph0\" class=\"graph\" transform=\"scale(1 1) rotate(0) translate(4 184)\">\n",
       "<polygon fill=\"white\" stroke=\"none\" points=\"-4,4 -4,-184 166,-184 166,4 -4,4\"/>\n",
       "<!-- 1 -->\n",
       "<g id=\"node1\" class=\"node\">\n",
       "<title>1</title>\n",
       "<ellipse fill=\"none\" stroke=\"black\" cx=\"27\" cy=\"-162\" rx=\"27\" ry=\"18\"/>\n",
       "<text text-anchor=\"middle\" x=\"27\" y=\"-156.57\" font-family=\"Times New Roman,serif\" font-size=\"14.00\">1</text>\n",
       "</g>\n",
       "<!-- 1&#45;&gt;1 -->\n",
       "<g id=\"edge1\" class=\"edge\">\n",
       "<title>1&#45;&gt;1</title>\n",
       "<path fill=\"none\" stroke=\"black\" d=\"M46.9,-174.43C59.69,-177.68 72,-173.53 72,-162 72,-153.89 65.91,-149.44 57.85,-148.63\"/>\n",
       "<polygon fill=\"black\" stroke=\"black\" points=\"57.56,-145.23 47.9,-149.57 58.16,-152.2 57.56,-145.23\"/>\n",
       "</g>\n",
       "<!-- 2 -->\n",
       "<g id=\"node2\" class=\"node\">\n",
       "<title>2</title>\n",
       "<ellipse fill=\"none\" stroke=\"black\" cx=\"117\" cy=\"-90\" rx=\"27\" ry=\"18\"/>\n",
       "<text text-anchor=\"middle\" x=\"117\" y=\"-84.58\" font-family=\"Times New Roman,serif\" font-size=\"14.00\">2</text>\n",
       "</g>\n",
       "<!-- 2&#45;&gt;2 -->\n",
       "<g id=\"edge2\" class=\"edge\">\n",
       "<title>2&#45;&gt;2</title>\n",
       "<path fill=\"none\" stroke=\"black\" d=\"M136.9,-102.43C149.69,-105.68 162,-101.53 162,-90 162,-81.89 155.91,-77.44 147.85,-76.63\"/>\n",
       "<polygon fill=\"black\" stroke=\"black\" points=\"147.56,-73.23 137.9,-77.57 148.16,-80.2 147.56,-73.23\"/>\n",
       "</g>\n",
       "<!-- 3 -->\n",
       "<g id=\"node3\" class=\"node\">\n",
       "<title>3</title>\n",
       "<ellipse fill=\"none\" stroke=\"black\" cx=\"117\" cy=\"-18\" rx=\"27\" ry=\"18\"/>\n",
       "<text text-anchor=\"middle\" x=\"117\" y=\"-12.57\" font-family=\"Times New Roman,serif\" font-size=\"14.00\">3</text>\n",
       "</g>\n",
       "<!-- 2&#45;&gt;3 -->\n",
       "<g id=\"edge3\" class=\"edge\">\n",
       "<title>2&#45;&gt;3</title>\n",
       "<path fill=\"none\" stroke=\"black\" d=\"M111.12,-72.05C110.31,-64.4 110.06,-55.16 110.39,-46.56\"/>\n",
       "<polygon fill=\"black\" stroke=\"black\" points=\"113.93,-47.01 111.14,-36.79 106.95,-46.52 113.93,-47.01\"/>\n",
       "</g>\n",
       "<!-- 3&#45;&gt;2 -->\n",
       "<g id=\"edge4\" class=\"edge\">\n",
       "<title>3&#45;&gt;2</title>\n",
       "<path fill=\"none\" stroke=\"black\" d=\"M122.86,-35.79C123.68,-43.42 123.93,-52.65 123.62,-61.27\"/>\n",
       "<polygon fill=\"black\" stroke=\"black\" points=\"120.07,-60.84 122.88,-71.05 127.06,-61.32 120.07,-60.84\"/>\n",
       "</g>\n",
       "<!-- 4 -->\n",
       "<g id=\"node4\" class=\"node\">\n",
       "<title>4</title>\n",
       "<ellipse fill=\"none\" stroke=\"black\" cx=\"117\" cy=\"-162\" rx=\"27\" ry=\"18\"/>\n",
       "<text text-anchor=\"middle\" x=\"117\" y=\"-156.57\" font-family=\"Times New Roman,serif\" font-size=\"14.00\">4</text>\n",
       "</g>\n",
       "<!-- 4&#45;&gt;2 -->\n",
       "<g id=\"edge5\" class=\"edge\">\n",
       "<title>4&#45;&gt;2</title>\n",
       "<path fill=\"none\" stroke=\"black\" d=\"M117,-143.7C117,-136.24 117,-127.32 117,-118.97\"/>\n",
       "<polygon fill=\"black\" stroke=\"black\" points=\"120.5,-119.1 117,-109.1 113.5,-119.1 120.5,-119.1\"/>\n",
       "</g>\n",
       "<!-- 4&#45;&gt;4 -->\n",
       "<g id=\"edge6\" class=\"edge\">\n",
       "<title>4&#45;&gt;4</title>\n",
       "<path fill=\"none\" stroke=\"black\" d=\"M136.9,-174.43C149.69,-177.68 162,-173.53 162,-162 162,-153.89 155.91,-149.44 147.85,-148.63\"/>\n",
       "<polygon fill=\"black\" stroke=\"black\" points=\"147.56,-145.23 137.9,-149.57 148.16,-152.2 147.56,-145.23\"/>\n",
       "</g>\n",
       "</g>\n",
       "</svg>\n"
      ],
      "text/plain": [
       "<graphviz.sources.Source at 0x2268cfdfa90>"
      ]
     },
     "execution_count": 219,
     "metadata": {},
     "output_type": "execute_result"
    }
   ],
   "source": [
    "### 3. Draw the directed graph of R.\n",
    "import networkx as nx\n",
    "G = nx.MultiDiGraph()\n",
    "\n",
    "G.add_edge('1','1')\n",
    "G.add_edge('2','2')\n",
    "G.add_edge('2','3')\n",
    "G.add_edge('3','2')\n",
    "G.add_edge('4','2')\n",
    "G.add_edge('4','4')\n",
    "from networkx.drawing import nx_pydot\n",
    "from graphviz import Source\n",
    "\n",
    "nx_pydot.write_dot(G, 'multig.dot')\n",
    "Source.from_file('multig.dot')"
   ]
  },
  {
   "cell_type": "markdown",
   "metadata": {},
   "source": [
    "---\n",
    "\n",
    "# Given & Answer $\\rightarrow$"
   ]
  },
  {
   "cell_type": "markdown",
   "metadata": {},
   "source": [
    "* Let $R$ and $S$ be relations on $A = \\{1,2,3\\}$<br>\n",
    "let:<br>\n",
    "\n",
    "$\\textbf{R} = \\{\n",
    "\\{1,1\\},\\{1,2\\},\\{2,3\\},\\{3,1\\},\\{3,3\\}\n",
    "\\}$<br>\n",
    "let:<br>\n",
    "$\\textbf{S} = \\{\n",
    "\\{1,2\\},\\{1,3\\},\\{2,1\\},\\{3,3\\}\n",
    "\\}$<br>\n",
    "Find:<br>\n",
    "1. $R \\cup S$.<br>\n",
    "- $R \\cup S$ = {x $\\in$ R $\\vee$ x $\\in$ S}\n",
    "- $R \\cup S$ = {{1,1}, {1,2}, {1,3}, {2,1}, {2,3}, {3,1}, {3,3}}\n",
    "\n",
    "2. $R \\cap S$.<br>\n",
    "- $R \\cap S$ = {x $\\in$ R $\\wedge$ x $\\in$ S}\n",
    "- $R \\cap S$ = {{1,2}, {3,3}} <br>\n",
    "\n",
    "3. $R^{c}$.<br>\n",
    "- $R^{c} = U - R$\n",
    "- U = $R \\cup S$ = {{1,1}, {1,2}, {1,3}, {2,1}, {2,3}, {3,1}, {3,3}}\n",
    "- $ U - R$ = {{1,1}, {1,2}, {1,3}, {2,1}, {2,3}, {3,1}, {3,3}} - {{1,1},\\{1,2},\\{2,3},{3,1},{3,3}}\n",
    "- $R^{c}$ = {{1,3}, {2,1}} <br>\n",
    "\n",
    "4. $R \\circ S$.<br>\n",
    "- For {1,1} $\\in$ R = aRb, {1,2}, {1,3} $\\in$ S = bRc. $\\quad \\therefore$ R $\\circ$ S, aRc = {1,2}, {1,3}\n",
    "- For {1,2} $\\in$ R = aRb, {2,1} $\\in$ S = bRc. $\\quad \\therefore$ R $\\circ$ S, aRc = {1,1}  \n",
    "- For {2,3} $\\in$ R = aRb, {3,3}, {2,3} $\\in$ S = bRc. $\\quad \\therefore$ R $\\circ$ S, aRc = {2,3}\n",
    "- For {3,1} $\\in$ R = aRb, {1,2}, {1,3} $\\in$ S = bRc. $\\quad \\therefore$ R $\\circ$ S, aRc = {3,2}, {3,3}\n",
    "- For {3,3} $\\in$ R = aRb, {3,3} $\\in$ S = bRc. $\\quad \\therefore$ R $\\circ$ S, aRc = {3,3}\n",
    "- $R \\circ S$ = {{1,1}, {1,2}, {1,3}, {2,3}, {3,2}, {3,3}}\n",
    "\n",
    "5. $S \\circ S$.<br>\n",
    "- For {1,2} $\\in$ R = aRb, {2,1} $\\in$ S = bRc. $\\quad \\therefore$ R $\\circ$ S, aRc = {1,1}\n",
    "- For {1,3} $\\in$ R = aRb, {3,3} $\\in$ S = bRc. $\\quad \\therefore$ R $\\circ$ S, aRc = {1,3}\n",
    "- For {2,1} $\\in$ R = aRb, {1,2}, {1,3} $\\in$ S = bRc. $\\quad \\therefore$ R $\\circ$ S, aRc = {2,2}, {2,3}\n",
    "- For {3,3} $\\in$ R = aRb, {3,3} $\\in$ S = bRc. $\\quad \\therefore$ R $\\circ$ S, aRc = {3,3}\n",
    "- $S \\circ S$ = {{1,1}, {1,3}, {2,2}, {2,3}, {3,3}}"
   ]
  },
  {
   "cell_type": "markdown",
   "metadata": {},
   "source": [
    "---\n",
    "# Given $\\rightarrow$"
   ]
  },
  {
   "cell_type": "markdown",
   "metadata": {},
   "source": [
    "* Consider the five relations on the set $A = \\{1,2,3\\}$:\n",
    "\\begin{equation}\n",
    "\\textbf{R} = \\{\n",
    "\\{1,1\\},\\{1,2\\},\\{1,3\\},\\{3,3\\}\n",
    "\\}\n",
    "\\end{equation}\n",
    "<br>\n",
    "\\begin{equation}\n",
    "\\textbf{S} = \\{\n",
    "\\{1,1\\},\\{1,2\\},\\{2,1\\},\\{2,2\\},\\{3,3\\}\n",
    "\\}\n",
    "\\end{equation}\n",
    "<br>\n",
    "\\begin{equation}\n",
    "\\textbf{T} = \\{\n",
    "\\{1,1\\},\\{1,2\\},\\{2,2\\},\\{2,3\\},\n",
    "\\}\n",
    "\\end{equation}\n",
    "<br>\n",
    "Which of the relations above are:<br>\n",
    "1. Reflexive.<br>\n",
    "2. Symmetric or anti-symmetric.<br>\n",
    "3. Transitive."
   ]
  },
  {
   "cell_type": "code",
   "execution_count": 220,
   "metadata": {},
   "outputs": [
    {
     "name": "stdout",
     "output_type": "stream",
     "text": [
      "{1, 2, 3}\n",
      "{(1, 1), (1, 2), (1, 3), (3, 3)}\n",
      "{(1, 2), (3, 3), (2, 1), (2, 2), (1, 1)}\n",
      "{(2, 3), (1, 1), (1, 2), (2, 2)}\n"
     ]
    }
   ],
   "source": [
    "A = {1,2,3}\n",
    "R = {(1,1),(1,2),(1,3),(3,3)}\n",
    "S = {(1,1),(1,2),(2,1),(2,2),(3,3)}\n",
    "T = {(1,1),(1,2),(2,2),(2,3)}\n",
    "print(A)\n",
    "print(R)\n",
    "print(S)\n",
    "print(T)"
   ]
  },
  {
   "cell_type": "markdown",
   "metadata": {},
   "source": [
    "# Answer $\\rightarrow$"
   ]
  },
  {
   "cell_type": "markdown",
   "metadata": {},
   "source": [
    "### 1. Reflexivity $\\rightarrow$ $\\LaTeX$ Solution:"
   ]
  },
  {
   "cell_type": "markdown",
   "metadata": {},
   "source": [
    "\n",
    "- For relation $R$\n",
    "  - For element 1, does aRa = {1,1} exist? Yes.\n",
    "  - for element 2, does aRa = {2,2} exist? No.\n",
    "- $R$ is not reflexive.\n",
    "<br>\n",
    "\n",
    "- For relation $S$\n",
    "  - For element 1, does aRa = {1,1} exist? Yes.\n",
    "  - for element 2, does aRa = {2,2} exist? Yes.\n",
    "  - For element 3, does aRa = {3,3} exist? Yes.\n",
    "- $S$ is reflexive.\n",
    "\n",
    "- For relation $T$\n",
    "  - For element 1, does aRa = {1,1} exist? Yes.\n",
    "  - for element 2, does aRa = {2,2} exist? Yes.\n",
    "  - For element 3, does aRa = {3,3} exist? No.\n",
    "- $T$ is not reflexive."
   ]
  },
  {
   "cell_type": "markdown",
   "metadata": {},
   "source": [
    "### $\\rightarrow$ $Python$ Solution:"
   ]
  },
  {
   "cell_type": "code",
   "execution_count": 221,
   "metadata": {},
   "outputs": [
    {
     "name": "stdout",
     "output_type": "stream",
     "text": [
      "R =  {(1, 1), (1, 2), (1, 3), (3, 3)}\n",
      "Is relation R reflexive in A? False\n",
      "S =  {(1, 2), (3, 3), (2, 1), (2, 2), (1, 1)}\n",
      "Is relation S reflexive in A? True\n",
      "T =  {(2, 3), (1, 1), (1, 2), (2, 2)}\n",
      "Is relation T reflexive in A? False\n"
     ]
    }
   ],
   "source": [
    "print(\"R = \",R)\n",
    "print(\"Is relation R reflexive in A?\", reflexive(R,A))\n",
    "\n",
    "print(\"S = \",S)\n",
    "print(\"Is relation S reflexive in A?\", reflexive(S,A))\n",
    "\n",
    "print(\"T = \",T)\n",
    "print(\"Is relation T reflexive in A?\", reflexive(T,A))\n"
   ]
  },
  {
   "cell_type": "markdown",
   "metadata": {},
   "source": [
    "### 2a. Symmetry $\\rightarrow$ $\\LaTeX$ Solution:"
   ]
  },
  {
   "cell_type": "markdown",
   "metadata": {},
   "source": [
    "\n",
    "- For relation $R$\n",
    "  - Ordered pair {1,1} is symmetric.\n",
    "  - For ordered pair {1,2}, does bRa = {2,1} exist? No.\n",
    "- $R$ is not symmetric. <br> <br>\n",
    "- For relation $S$\n",
    "  - Ordered pair {1,1} is symmetric.\n",
    "  - For ordered pair {1,2}, does bRa = {2,1} exist? Yes.\n",
    "  - Ordered pair {2,2} is symmetric.\n",
    "  - Ordered pair {3,3} is symmetric.\n",
    "- $S$ is symmetric. <br> <br>\n",
    "- For relation $T$\n",
    "  - Ordered pair {1,1} is symmetric.\n",
    "  - For ordered pair {1,2}, does bRa = {2,1} exist? No.\n",
    "- $T$ is not symmetric."
   ]
  },
  {
   "cell_type": "markdown",
   "metadata": {},
   "source": [
    "### $\\rightarrow$ $Python$ Solution:"
   ]
  },
  {
   "cell_type": "code",
   "execution_count": 222,
   "metadata": {},
   "outputs": [
    {
     "name": "stdout",
     "output_type": "stream",
     "text": [
      "R =  {(1, 1), (1, 2), (1, 3), (3, 3)}\n",
      "Is the relation R symmetric?:  False\n",
      "S =  {(1, 2), (3, 3), (2, 1), (2, 2), (1, 1)}\n",
      "Is the relation R symmetric?:  True\n",
      "T =  {(2, 3), (1, 1), (1, 2), (2, 2)}\n",
      "Is the relation R symmetric?:  False\n"
     ]
    }
   ],
   "source": [
    "print(\"R = \",R)\n",
    "print(\"Is the relation R symmetric?: \", symmetric(R))\n",
    "print(\"S = \",S)\n",
    "print(\"Is the relation R symmetric?: \", symmetric(S))\n",
    "print(\"T = \",T)\n",
    "print(\"Is the relation R symmetric?: \", symmetric(T))"
   ]
  },
  {
   "cell_type": "markdown",
   "metadata": {},
   "source": [
    "### 2b. Anti-symmetry $\\rightarrow$ $\\LaTeX$ Solution:"
   ]
  },
  {
   "cell_type": "markdown",
   "metadata": {},
   "source": [
    "\n",
    "- For relation $R$\n",
    "  - For ordered pair {1,1}, is the pair not distinct? Yes\n",
    "  - For ordered pair {1,2}, does bRa = {2,1} not exist? Yes\n",
    "  - For ordered pair {1,3}, does bRa = {3,1} not exist? Yes\n",
    "  - For ordered pair {3,3}, is the pair not distinct? Yes\n",
    "- $R$ is anti-symmetric.<br><br>\n",
    "- For relation $S$\n",
    "  - For ordered pair {1,1}, is the pair not distinct? Yes\n",
    "  - For ordered pair {1,2}, does bRa = {2,1} not exist? No\n",
    "- $S$ is not anti-symmetric.<br><br>\n",
    "- For relation $T$\n",
    "  - For ordered pair {1,1}, is the pair not distinct? Yes\n",
    "  - For ordered pair {1,2}, does bRa = {2,1} not exist? Yes\n",
    "  - For ordered pair {2,2}, is the pair not distinct? Yes\n",
    "  - For ordered pair {2,3}, idoes bRa = {3,2} not exist? Yes\n",
    "- $T$ is anti-symmetric.<br><br>"
   ]
  },
  {
   "cell_type": "markdown",
   "metadata": {},
   "source": [
    "### $\\rightarrow$ $Python$ Solution:"
   ]
  },
  {
   "cell_type": "markdown",
   "metadata": {},
   "source": [
    "### 3. Transitivity $\\rightarrow$ $\\LaTeX$ Solution:"
   ]
  },
  {
   "cell_type": "markdown",
   "metadata": {},
   "source": [
    "- For relation $R$\n",
    "  - For {1,1} $\\in$ R = {1,1} $\\in$ R = bRc, $\\exists$({1,1}=aRc)? Yes\n",
    "  - For {1,2} $\\in$ R = aRb, $\\nexists$ bRa, $\\therefore$ ignores the transitivity check.\n",
    "  - For {1,3} $\\in$ R = {3,3} $\\in$ R = bRc, $\\exists$({1,3}=aRc)? Yes\n",
    "  - For {3,3} $\\in$ R = {3,3} $\\in$ R = bRc, $\\exists$({3,3}=aRc)? Yes\n",
    "- $R$ is transitive. <br><br>\n",
    "- For relation $S$\n",
    "  - For {1,1} $\\in$ S = {1,1} $\\in$ S = bRc, $\\exists$({1,1}=aRc)? Yes\n",
    "  - For {1,1} $\\in$ S = {1,2} $\\in$ S = bRc, $\\exists$({1,2}=aRc)? Yes\n",
    "  - For {1,2} $\\in$ S = {2,1} $\\in$ S = bRc, $\\exists$({1,1}=aRc)? Yes\n",
    "  - For {1,2} $\\in$ S = {2,2} $\\in$ S = bRc, $\\exists$({1,2}=aRc)? Yes\n",
    "  - For {2,1} $\\in$ S = {1,1} $\\in$ S = bRc, $\\exists$({2,1}=aRc)? Yes\n",
    "  - For {2,1} $\\in$ S = {1,2} $\\in$ S = bRc, $\\exists$({2,2}=aRc)? Yes\n",
    "  - For {2,2} $\\in$ S = {2,2} $\\in$ S = bRc, $\\exists$({2,2}=aRc)? Yes\n",
    "  - For {2,2} $\\in$ S = {2,1} $\\in$ S = bRc, $\\exists$({2,1}=aRc)? Yes\n",
    "  - For {3,3} $\\in$ S = {3,3} $\\in$ S = bRc, $\\exists$({3,3}=aRc)? Yes\n",
    "- $S$ is transitive. <br><br>\n",
    "- For relation $T$\n",
    "  - For {1,1} $\\in$ T = {1,1} $\\in$ T = bRc, $\\exists$({1,1}=aRc)? Yes\n",
    "  - For {1,1} $\\in$ T = {1,2} $\\in$ T = bRc, $\\exists$({1,2}=aRc)? Yes\n",
    "  - For {1,2} $\\in$ T = {2,2} $\\in$ T = bRc, $\\exists$({1,2}=aRc)? Yes\n",
    "  - For {1,2} $\\in$ T = {2,3} $\\in$ T = bRc, $\\exists$({1,3}=aRc)? No\n",
    "- $T$ is not transitive. <br><br>"
   ]
  },
  {
   "cell_type": "markdown",
   "metadata": {},
   "source": [
    "### $\\rightarrow$ $Python$ Solution:"
   ]
  },
  {
   "cell_type": "code",
   "execution_count": 223,
   "metadata": {},
   "outputs": [
    {
     "name": "stdout",
     "output_type": "stream",
     "text": [
      "A =  {1, 2, 3} \n",
      "\n",
      "R =  {(1, 1), (1, 2), (1, 3), (3, 3)}\n",
      "Is relation R transitive?:  True\n",
      "S =  {(1, 2), (3, 3), (2, 1), (2, 2), (1, 1)}\n",
      "Is relation S transitive?:  True\n",
      "T =  {(2, 3), (1, 1), (1, 2), (2, 2)}\n",
      "Is relation T transitive?:  False\n"
     ]
    }
   ],
   "source": [
    "print(\"A = \",A, \"\\n\")\n",
    "\n",
    "print(\"R = \",R)\n",
    "print(\"Is relation R transitive?: \", transitive(R))\n",
    "print(\"S = \",S)\n",
    "print(\"Is relation S transitive?: \", transitive(S))\n",
    "print(\"T = \",T)\n",
    "print(\"Is relation T transitive?: \", transitive(T))"
   ]
  }
 ],
 "metadata": {
  "kernelspec": {
   "display_name": "Python 3 (ipykernel)",
   "language": "python",
   "name": "python3"
  },
  "language_info": {
   "codemirror_mode": {
    "name": "ipython",
    "version": 3
   },
   "file_extension": ".py",
   "mimetype": "text/x-python",
   "name": "python",
   "nbconvert_exporter": "python",
   "pygments_lexer": "ipython3",
   "version": "3.11.4"
  }
 },
 "nbformat": 4,
 "nbformat_minor": 4
}

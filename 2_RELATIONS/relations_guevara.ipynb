{
 "cells": [
  {
   "cell_type": "markdown",
   "metadata": {},
   "source": [
    "### Relations Assignment - Trent Lee R. Guevara - Group 6 - BSIT-1 - Discrete Math 1"
   ]
  },
  {
   "cell_type": "markdown",
   "metadata": {},
   "source": [
    "### <font color=red>ASSIGNMENT</font>\n",
    "---\n",
    "- Create a python function that will determine if a set is transitive or not."
   ]
  },
  {
   "cell_type": "markdown",
   "metadata": {},
   "source": [
    "R_1 = \\{\\{1,1\\},\\{1,2\\},\\{2,3\\},\\{1,3\\},\\{4,4\\}\\} <br>\n",
    "R_2 = \\{\\{1,1\\},\\{1,2\\},\\{2,1\\},\\{2,2\\},\\{3,3\\},\\{4,4\\}\\} <br>\n",
    "R_3 = \\{\\{1,3,\\},\\{2,1\\}\\} <br>\n",
    "R_4 = AxA"
   ]
  },
  {
   "cell_type": "markdown",
   "metadata": {},
   "source": [
    "# Answer $\\rightarrow$"
   ]
  },
  {
   "cell_type": "code",
   "execution_count": 11,
   "metadata": {},
   "outputs": [
    {
     "name": "stdout",
     "output_type": "stream",
     "text": [
      "[(1, 1), (1, 2), (2, 3), (1, 3), (4, 4)]\n",
      "  transitive:  True\n",
      "[(1, 1), (1, 2), (2, 1), (2, 2), (3, 3), (4, 4)]\n",
      "  transitive:  True\n",
      "[(1, 3), (2, 1)]\n",
      "  transitive:  False\n",
      "[(1, 1), (1, 2), (1, 3), (1, 4), (2, 1), (2, 2), (2, 3), (2, 4), (3, 1), (3, 2), (3, 3), (3, 4), (4, 1), (4, 2), (4, 3), (4, 4)]\n",
      "  transitive:  True\n"
     ]
    }
   ],
   "source": [
    "def is_transitive(R, A):\n",
    "    for a,b in R:\n",
    "        if not a and not b:\n",
    "            continue\n",
    "        for c,d in R:\n",
    "            if b == c and ((a,d) not in R):\n",
    "                    # print (a,b),(c,d) # uncomment for tests...\n",
    "                    return False\n",
    "    return True\n",
    "A = set([1, 2, 3, 4])\n",
    "R1 = [(1, 1), (1, 2), (2, 3), (1, 3), (4, 4)]\n",
    "R2 = [(1, 1), (1, 2), (2, 1),(2,2),(3,3),(4,4)]\n",
    "R3 = [(1,3),(2,1)]\n",
    "R4 = [(a,b) for a in A for b in A]\n",
    "for R in [R1, R2, R3, R4]:\n",
    "    print(R)\n",
    "    print(\"  transitive: \", is_transitive(R, A))"
   ]
  },
  {
   "cell_type": "markdown",
   "metadata": {},
   "source": [
    "# Assignments\n",
    "---\n",
    "### Instructions:\n",
    "#### 1. Use Latex programming to show your solution.\n",
    "#### 2. For problems requiring the identification of reflexive, symmetric, and transitive properties of relation, show both manual solution via latex, and the solution using your python function.\n",
    "\n",
    "# Given $\\rightarrow$\n",
    "* Given $A = \\{1,2,3,4\\}$ and $B=\\{x,y,z\\}$. Let $R$ be a relation from $A \\to B$:\n",
    "\\begin{equation}\n",
    "\\textbf{R} = \\{\n",
    "\\{1,y\\},\\{1,z\\},\\{3,y\\},\\{4,x\\},\\{4,z\\}\n",
    "\\}\n",
    "\\end{equation}\n",
    "1. Find all $aRb$.\n",
    "2. Find $R^{-1}$.\n",
    "3. Determine the domain and range of $R$.\n",
    "4. Check if $R$ is a reflexive relation.\n",
    "5. Check if $R$ is a symmetric relation."
   ]
  },
  {
   "cell_type": "markdown",
   "metadata": {},
   "source": [
    "# Answer $\\rightarrow$"
   ]
  },
  {
   "cell_type": "markdown",
   "metadata": {},
   "source": [
    "1. To check for all $aRb$, we find AxB."
   ]
  },
  {
   "cell_type": "code",
   "execution_count": 12,
   "metadata": {},
   "outputs": [
    {
     "name": "stdout",
     "output_type": "stream",
     "text": [
      "[(1, 'x'), (1, 'z'), (1, 'y'), (2, 'x'), (2, 'z'), (2, 'y'), (3, 'x'), (3, 'z'), (3, 'y'), (4, 'x'), (4, 'z'), (4, 'y')]\n"
     ]
    }
   ],
   "source": [
    "A = set([1, 2, 3, 4])\n",
    "B = set(['x','y','z'])\n",
    "Cartesian = [(a,b) for a in A for b in B]\n",
    "print(Cartesian)"
   ]
  },
  {
   "cell_type": "markdown",
   "metadata": {},
   "source": [
    "- Checking from the results, $R$ = {{1,y}$\\checkmark$,{1,z}$\\checkmark$,{3,y}$\\checkmark$,{4,x}$\\checkmark$,{4,z}$\\checkmark$}\n",
    "- With respect to the relation, $R: 1Ry, 1Rz, 3Ry, 4Rx, 4Rz$"
   ]
  },
  {
   "cell_type": "markdown",
   "metadata": {},
   "source": [
    "2. $R$ = {{1,y},{1,z},{3,y},{4,x},{4,z}}\n",
    "- $R^{-1}$ = {{y,1},{z,1},{y,3},{x,4},{z,4}}"
   ]
  },
  {
   "cell_type": "markdown",
   "metadata": {},
   "source": [
    "3. The domain of $R$ is {1,3,4} and the range is {x,y,z}"
   ]
  },
  {
   "cell_type": "markdown",
   "metadata": {},
   "source": [
    "4. $\\LaTeX$ Solution:\n"
   ]
  },
  {
   "cell_type": "code",
   "execution_count": null,
   "metadata": {},
   "outputs": [],
   "source": []
  }
 ],
 "metadata": {
  "kernelspec": {
   "display_name": "Python 3 (ipykernel)",
   "language": "python",
   "name": "python3"
  },
  "language_info": {
   "codemirror_mode": {
    "name": "ipython",
    "version": 3
   },
   "file_extension": ".py",
   "mimetype": "text/x-python",
   "name": "python",
   "nbconvert_exporter": "python",
   "pygments_lexer": "ipython3",
   "version": "3.11.4"
  }
 },
 "nbformat": 4,
 "nbformat_minor": 4
}

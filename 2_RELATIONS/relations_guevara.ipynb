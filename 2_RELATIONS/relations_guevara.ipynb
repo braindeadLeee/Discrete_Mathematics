{
 "cells": [
  {
   "cell_type": "markdown",
   "metadata": {},
   "source": [
    "### <font color=red>ASSIGNMENT</font>\n",
    "---\n",
    "- Create a python function that will determine if a set is transitive or not."
   ]
  },
  {
   "cell_type": "markdown",
   "metadata": {},
   "source": [
    "R_1 = \\{\\{1,1\\},\\{1,2\\},\\{2,3\\},\\{1,3\\},\\{4,4\\}\\} <br>\n",
    "R_2 = \\{\\{1,1\\},\\{1,2\\},\\{2,1\\},\\{2,2\\},\\{3,3\\},\\{4,4\\}\\} <br>\n",
    "R_3 = \\{\\{1,3,\\},\\{2,1\\}\\} <br>\n",
    "R_4 = AxA"
   ]
  },
  {
   "cell_type": "code",
   "execution_count": 9,
   "metadata": {},
   "outputs": [
    {
     "name": "stdout",
     "output_type": "stream",
     "text": [
      "[(1, 1), (1, 2), (2, 3), (1, 3), (4, 4)]\n"
     ]
    },
    {
     "ename": "NameError",
     "evalue": "name 'c' is not defined",
     "output_type": "error",
     "traceback": [
      "\u001b[1;31m---------------------------------------------------------------------------\u001b[0m",
      "\u001b[1;31mNameError\u001b[0m                                 Traceback (most recent call last)",
      "Cell \u001b[1;32mIn[9], line 16\u001b[0m\n\u001b[0;32m     14\u001b[0m \u001b[39mfor\u001b[39;00m R \u001b[39min\u001b[39;00m [R1, R2, R3, R4, R5]:\n\u001b[0;32m     15\u001b[0m     \u001b[39mprint\u001b[39m(R)\n\u001b[1;32m---> 16\u001b[0m     \u001b[39mprint\u001b[39m(\u001b[39m\"\u001b[39m\u001b[39m  transitive: \u001b[39m\u001b[39m\"\u001b[39m, trans(R, A))\n",
      "Cell \u001b[1;32mIn[9], line 4\u001b[0m, in \u001b[0;36mtrans\u001b[1;34m(R, A)\u001b[0m\n\u001b[0;32m      1\u001b[0m \u001b[39mdef\u001b[39;00m \u001b[39mtrans\u001b[39m(R, A):\n\u001b[0;32m      3\u001b[0m     \u001b[39mfor\u001b[39;00m a, b \u001b[39min\u001b[39;00m R:\n\u001b[1;32m----> 4\u001b[0m         \u001b[39mif\u001b[39;00m (b, c) \u001b[39mnot\u001b[39;00m \u001b[39min\u001b[39;00m R:\n\u001b[0;32m      5\u001b[0m             \u001b[39mreturn\u001b[39;00m \u001b[39mFalse\u001b[39;00m\n\u001b[0;32m      6\u001b[0m     \u001b[39mreturn\u001b[39;00m \u001b[39mTrue\u001b[39;00m\n",
      "\u001b[1;31mNameError\u001b[0m: name 'c' is not defined"
     ]
    }
   ],
   "source": [
    "def trans(R, A):\n",
    "\n",
    "    for a, b in R:\n",
    "        if (b, c) not in R:\n",
    "            return False\n",
    "    return True\n",
    "\n",
    "A = set([1, 2, 3, 4])\n",
    "R1 = [(1, 1), (1, 2), (2, 3), (1, 3), (4, 4)]\n",
    "R2 = [(1, 1), (1, 2), (2, 1),(2,2),(3,3),(4,4)]\n",
    "R3 = [(1,3),(2,1)]\n",
    "R4 = [()]\n",
    "R5 =[(x0, y0) for x0 in A for y0 in A]\n",
    "for R in [R1, R2, R3, R4, R5]:\n",
    "    print(R)\n",
    "    print(\"  transitive: \", trans(R, A))"
   ]
  },
  {
   "cell_type": "markdown",
   "metadata": {},
   "source": [
    "# deadass\n"
   ]
  }
 ],
 "metadata": {
  "kernelspec": {
   "display_name": "Python 3",
   "language": "python",
   "name": "python3"
  },
  "language_info": {
   "codemirror_mode": {
    "name": "ipython",
    "version": 3
   },
   "file_extension": ".py",
   "mimetype": "text/x-python",
   "name": "python",
   "nbconvert_exporter": "python",
   "pygments_lexer": "ipython3",
   "version": "3.11.4"
  },
  "orig_nbformat": 4
 },
 "nbformat": 4,
 "nbformat_minor": 2
}

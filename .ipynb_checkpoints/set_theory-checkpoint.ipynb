{
 "cells": [
  {
   "cell_type": "markdown",
   "id": "1f7e3f5c-083d-4d9c-aa7a-a3b7cfad0880",
   "metadata": {},
   "source": [
    "### Set Theory Assignment - Trent Lee R. Guevara - Group 6 - BSIT-1 - Discrete Math 1"
   ]
  },
  {
   "cell_type": "code",
   "execution_count": 5,
   "id": "0c13ca8a-dd19-41fa-bbdd-9b70c9e26356",
   "metadata": {},
   "outputs": [],
   "source": [
    "from matplotlib_venn import venn2, venn2_circles, venn2_unweighted\n",
    "from matplotlib_venn import venn3, venn3_circles\n",
    "from matplotlib import pyplot as plt\n",
    "import pandas as pd\n",
    "%matplotlib inline"
   ]
  },
  {
   "cell_type": "code",
   "execution_count": 6,
   "id": "9cf72c75-6e9f-4b4f-8338-c2532d62e6f3",
   "metadata": {},
   "outputs": [],
   "source": [
    "def drawVenn2(A,B,labels = ('A', 'B')):\n",
    "    '''\n",
    "    listing elements in Venn diagram of two sets\n",
    "    '''\n",
    "    v2=venn2([A,B],set_labels = labels);\n",
    "    v2.get_label_by_id('01').set_text(', '.join(map(str,B-A)))\n",
    "    v2.get_label_by_id('10').set_text(', '.join(map(str,A-B)))\n",
    "    if A&B:\n",
    "        v2.get_label_by_id('11').set_text(', '.join(map(str,A&B)))"
   ]
  },
  {
   "cell_type": "code",
   "execution_count": 7,
   "id": "cfbe765c-cefc-4f9b-bfe2-9cd90658996e",
   "metadata": {},
   "outputs": [],
   "source": [
    "def drawVenn3(A,B,C,labels = ('A', 'B', 'C')):\n",
    "    '''\n",
    "    listing elements in Venn diagram of three sets, A, B, C\n",
    "    '''\n",
    "    v3=venn3([A,B,C],set_labels = labels);\n",
    "    if A-B-C:\n",
    "        v3.get_label_by_id('100').set_text('\\n'.join(map(str,A-B-C)))\n",
    "        v3.get_patch_by_id('100').set_alpha(0.6)\n",
    "        v3.get_patch_by_id('100').set_facecolor('Yellow')\n",
    "    if A&B-C:\n",
    "        v3.get_label_by_id('110').set_text('\\n'.join(map(str,A&B-C)))\n",
    "        v3.get_patch_by_id('110').set_alpha(0.3)\n",
    "        v3.get_patch_by_id('110').set_facecolor('Red')\n",
    "    if B-C-A:\n",
    "        v3.get_label_by_id('010').set_text('\\n'.join(map(str,B-C-A)))\n",
    "        v3.get_patch_by_id('010').set_alpha(0.6)\n",
    "        v3.get_patch_by_id('010').set_facecolor('Magenta')\n",
    "    if A&C-B:\n",
    "        v3.get_label_by_id('101').set_text('\\n'.join(map(str,A&C-B)))\n",
    "        v3.get_patch_by_id('101').set_alpha(0.3)\n",
    "        v3.get_patch_by_id('101').set_facecolor('Green')\n",
    "    if A&B&C:\n",
    "        v3.get_label_by_id('111').set_text('\\n'.join(map(str,A&B&C)))\n",
    "        v3.get_patch_by_id('111').set_alpha(0.1)\n",
    "        v3.get_patch_by_id('111').set_facecolor('Black')\n",
    "    if B&C-A:\n",
    "        v3.get_label_by_id('011').set_text('\\n'.join(map(str,B&C-A)))\n",
    "        v3.get_patch_by_id('011').set_alpha(0.3)\n",
    "        v3.get_patch_by_id('011').set_facecolor('Blue')\n",
    "    if C-B-A:\n",
    "        v3.get_label_by_id('001').set_text('\\n'.join(map(str,C-B-A)))\n",
    "        v3.get_patch_by_id('001').set_alpha(0.6)\n",
    "        v3.get_patch_by_id('001').set_facecolor('Cyan')"
   ]
  },
  {
   "cell_type": "markdown",
   "id": "57de646c-3cff-43b3-aaf0-12843fb9683a",
   "metadata": {},
   "source": [
    "# Assignment\n",
    "---\n",
    "<strong>Instructions:\n",
    "1. You may use all the resources you can find (google, stackoverflow, googlebard, chatgpt) to answer the questions [resourcefulness is the key].\n",
    "2. Search \"How to write equations in jupyter notebook\".\n",
    "3. Use https://oeis.org/wiki/List_of_LaTeX_mathematical_symbols as a guide to create mathematical symbols.\n",
    "4. Recycle the codes in this notebook, in cases where more than 3 circles will be used use the library pyvenn, and develope a code that will show more than 3 circles in a venn diagram.\n",
    "5. pyvenn: https://pypi.org/project/venn/.\n",
    "6. In your github account create a folder named set_theory.\n",
    "7. Create a different jupyter notebook for your solutions, the filename should be set_theory.ipynb\n",
    "8. Push your solutions to your github account."
   ]
  },
  {
   "cell_type": "markdown",
   "id": "3b9e11ab-1e4e-42b4-aa75-34293d5a2ae9",
   "metadata": {},
   "source": [
    "# 1. Proving Identities\n",
    "---\n",
    "#### Use Latex programming to show your solutions.\n",
    "#### Be Resourceful, use the internet.\n",
    "Given: A and B are sets, $\\exists$ x such that (x $\\in$ A $\\land$ x $\\in$ B)<br>\n",
    "Show that:\n",
    "- A\\B = A $\\cap$ $B^{c}$ \n",
    "- B = (B $\\cap$ A) $\\cup$ (B $\\cap$ $A^{c}$)\n",
    "- B\\A = B $\\cap$ $A^{c}$\n",
    "- A $\\cup$ B = A $\\cup$ (B $\\cap$ $A^{c}$)\n",
    "- $(\\textbf{U}_{i=1}^{\\infty} A_{i}^{c})^{c}$ = $\\cap_{i=1}^{\\infty}A_{i}$\n",
    "- |A $\\cup$ B| = |A| + |B| - |A $\\cap$ B|\n",
    "\n",
    "- $\\textbf{With these information do the following: }$"
   ]
  },
  {
   "cell_type": "markdown",
   "id": "556176dc-4cbb-45e9-bb85-a59a02613508",
   "metadata": {},
   "source": [
    "# 2. Sets and Subsets\n",
    "---\n",
    "#### Use Latex Programming to show your solutions.\n",
    "- If A = {2,3,4,5}, and B = {$x \\in \\mathbb{N} | x \\ is \\ even$}. Is A $\\subset$ B? Show a proof.\n",
    "- Let sets $\\textbf{A} = \\{x|x \\in \\mathbb{Z}, 0 \\leq x \\leq 9\\},\n",
    "\\textbf{B} = \\{ 2,4,6,8\\},\n",
    "\\ and \\ \n",
    "\\textbf{C}  = \\{ 1,3,5,7,9\\}\n",
    "\\ and \\ \\textbf{D}  = \\{ 3,4,5\\}$\n",
    "Find a set $\\textbf{X}$ which will satisfy the following conditions:\n",
    "    1. $\\textbf{X} \\ and \\ \\textbf{B}$ are disjoint.\n",
    "    2. $\\textbf{X} \\subseteq \\textbf{D}$ but $\\textbf{X} \\nsubseteq \\textbf{B}$.\n",
    "    3. $\\textbf{X} \\subseteq \\textbf{A}$ but $\\textbf{X} \\not\\subset \\textbf{C}$."
   ]
  },
  {
   "attachments": {},
   "cell_type": "markdown",
   "id": "f49720b8-71d8-4391-93a7-0ba5c3766fed",
   "metadata": {},
   "source": [
    "# Solutions and Answers\n",
    "### A. Solution:  \n",
    "- A={2,3,4,5}  \n",
    "- B={2,4,6,8,10,12...}  \n",
    "- A $\\subset$ B $\\iff$ $\\forall$ x $\\exists$ x :(x $\\in$ A $\\to$ x $\\in$ B) $\\land$ $\\exists$ x: (x $\\in$B $\\cap$ x $\\notin$ A). (First condition fails as 3 and 5 from set A are not found in set B.)\n",
    "\n",
    "### A. Answer:\n",
    "- $ \\therefore A \\nsubseteq B$  (Therefore, A is not a proper subset of B)"
   ]
  },
  {
   "cell_type": "markdown",
   "id": "b93e6ad1-b0ce-4495-9fe9-b3d61a656a09",
   "metadata": {},
   "source": [
    "### B. Solutions:\n",
    "\n",
    "1. X $\\cap$ B = $\\emptyset$\n",
    "- X = B$^c$\n",
    "- B$^c$ = $U$ - B\n",
    "- $U$ = A $\\cup$ B $\\cup$ C $\\cup$ D = {0,1,2,3,4,5,6,7,8,9}\n",
    "- $U$ - B = {0,1,2,3,4,5,6,7,8,9} - {2,4,6,8} = {0,1,3,5,7,9}\n",
    "- X = {0,1,3,5,7,9}\n",
    "- Proof: (X $\\cap$ B = $\\emptyset$) = ( {0,1,3,5,7,9} $\\cap$ {2,4,6,8} = $\\emptyset$} )\n",
    "1. Answer:\n",
    "- (For X to be disjoint to B) X = {0,1,3,5,7,9}\n",
    "\n",
    "2.  $\\textbf{X} \\subseteq \\textbf{D} \\wedge \\textbf{X} \\nsubseteq \\textbf{B}$.\n",
    "- X = D = {3,4,5}\n",
    "- X = {3,4,5}\n",
    "- (X - B) = ( {3,4,5} - {2,4,6,8} )\n",
    "- X = {3,5}\n",
    "2. Answer:\n",
    "- (For X to be a subset of D but not a subset of B) X = {3,5}\n",
    "\n",
    "3.  $\\textbf{X} \\subseteq \\textbf{A} \\wedge \\textbf{X} \\nsubseteq \\textbf{C}$.\n",
    "- X = A = {0,1,2,3,4,5,6,7,8,9}\n",
    "- X = {0,1,2,3,4,5,6,7,8,9}\n",
    "- (X - C) = ( {0,1,2,3,4,5,6,7,8,9} - {1,3,5,7,9} )\n",
    "- X = {0,2,4,6,8}\n",
    "3. Answer:\n",
    "- (For X to be a subset of A but not a subset of C) X = {0,2,4,6,8}\n",
    "---\n",
    "- Additional Answer If a set of X is being asked to be found to satisfy ALL three conditions, then: ∄X"
   ]
  },
  {
   "cell_type": "markdown",
   "id": "14b56823-88a1-4ae9-b224-59cbdc4348e2",
   "metadata": {},
   "source": [
    "# 3. Set Operations\n",
    "---\n",
    "#### Use this website https://learnpython.com/blog/set-operations-in-python/ to learn about set Operations in Python.\n",
    "##### 1. First solve the problems manually, use Latex programming to show your manual solutions.\n",
    "##### 2. Second, solve the problem using python. Show your codes for the pythonic solutions.\n",
    "##### Hint: You know your solutions is right if your manual solution is equivalent to your pythonic solution.\n",
    "\n",
    "Given:<br>\n",
    "$\\textbf{U} = \\{1,2,3,4,5\\}$<br>\n",
    "$\\textbf{A} = \\{1,2,3,4,5\\}$<br>\n",
    "$\\textbf{B} = \\{4,5,6,7\\}$<br>\n",
    "$\\textbf{C} = \\{5,6,7,8,9\\}$<br>\n",
    "$\\textbf{D} = \\{1,3,5,7,9\\}$<br>\n",
    "$\\textbf{E} = \\{2,4,6,8\\}$<br>\n",
    "$\\textbf{F} = \\{1,5,9\\}$<br>\n",
    "- $\\textbf{C} \\oplus \\textbf{D}$\n",
    "- $\\textbf{A} \\backslash \\textbf{B}$\n",
    "- $\\textbf{B} \\backslash \\textbf{A}$\n",
    "- $\\textbf{E} \\oplus \\textbf{F}$"
   ]
  },
  {
   "cell_type": "markdown",
   "id": "9e4e2540-df73-4580-9f64-408753ece96a",
   "metadata": {},
   "source": [
    "## Manual Solutions\n",
    "1. $\\textbf{C} \\oplus \\textbf{D}$\n",
    "- $\\textbf{C} \\oplus \\textbf{D}$ = (C $\\cup$ D) \\ (C $\\cap$ D)\n",
    "- $\\textbf{C} \\oplus \\textbf{D}$ = {1,3,5,6,7,8,9} \\ {5,7,9}\n",
    "- $\\textbf{C} \\oplus \\textbf{D}$ = {1,3,6,8}\n",
    "\n",
    "2. $\\textbf{A} \\backslash \\textbf{B} \\iff (x \\in A) \\land (x \\notin B)$\n",
    "- $\\textbf{A} \\backslash \\textbf{B}$ = {1,2,3}\n",
    "\n",
    "3. $\\textbf{B} \\backslash \\textbf{A} \\iff (x \\in B) \\land (x \\notin A)$\n",
    "- $\\textbf{A} \\backslash \\textbf{B}$ = {6,7}\n",
    "\n",
    "4. $\\textbf{E} \\oplus \\textbf{F}$\n",
    "- $\\textbf{E} \\oplus \\textbf{F}$ = (E $\\cup$ F) \\ (E $\\cap$ F)\n",
    "- $\\textbf{E} \\oplus \\textbf{F}$ = {1,2,4,5,6,8,9} \\ {}\n",
    "- $\\textbf{E} \\oplus \\textbf{F}$ = {1,2,4,5,6,8,9}"
   ]
  },
  {
   "cell_type": "code",
   "execution_count": 8,
   "id": "c45630fc-ce6a-402d-815b-e8e670ff8205",
   "metadata": {},
   "outputs": [
    {
     "name": "stdout",
     "output_type": "stream",
     "text": [
      "Symmetric Difference Between C and D (C^D) = {1, 3, 6, 8}\n",
      " \n",
      " Difference Between A and B (A-B) = {1, 2, 3}\n",
      " \n",
      " Difference Between B and A (B-A) = {6, 7}\n",
      "\n",
      " Symmetric Difference Between E and F (E^F) = {1, 2, 4, 5, 6, 8, 9}\n"
     ]
    }
   ],
   "source": [
    "#PYTHONIC SOLUTIONS\n",
    "U = {1,2,3,4,5}\n",
    "A = {1,2,3,4,5}\n",
    "B = {4,5,6,7}\n",
    "C = {5,6,7,8,9}\n",
    "D = {1,3,5,7,9}\n",
    "E = {2,4,6,8}\n",
    "F = {1,5,9}\n",
    "\n",
    "#1 Symmetric difference between sets C and D\n",
    "print('Symmetric Difference Between C and D (C^D) =',(C^D)) \n",
    "\n",
    "#2 Difference between sets A and B\n",
    "print(' \\n Difference Between A and B (A-B) =',(A-B)) \n",
    "\n",
    "#3 Difference between sets B and A\n",
    "print(' \\n Difference Between B and A (B-A) =',(B-A)) \n",
    "\n",
    "#4 Symmetric difference between sets E and F\n",
    "print('\\n Symmetric Difference Between E and F (E^F) =',(E^F)) \n",
    "\n",
    "#My Work is Correct Yay :)"
   ]
  },
  {
   "cell_type": "markdown",
   "id": "c7ae8a5a-9ba9-4990-983d-63ad516eb525",
   "metadata": {},
   "source": [
    "# 4. Finite Sets and The Counting Principles\n",
    "---\n",
    "## A. In a Survey of 120 People, it was found that:\n",
    "- 65 read Newsweek Magazine\n",
    "- 45 read Times Magazine\n",
    "- 42 read Fortune Magazine\n",
    "- 20 read Both Newsweek and Time\n",
    "- 25 read both Newsweek and Fortune\n",
    "- 15 read both Time and Fortune\n",
    "- 8 read all three magazines\n",
    "With this information do the following:<br>\n",
    "1. Draw the Venn diagram using Python.\n",
    "2. Find the number of people who read at $\\textbf{\"least one\"}$ of the three magazines.\n",
    "3. Find the number of people who read exactly one magazine."
   ]
  },
  {
   "cell_type": "code",
   "execution_count": 16,
   "id": "25a8925d-e7f4-48e5-81f4-b5dbbb29741b",
   "metadata": {},
   "outputs": [
    {
     "data": {
      "image/png": "[encoded data removed]",
      "text/plain": [
       "<Figure size 640x480 with 1 Axes>"
      ]
     },
     "metadata": {},
     "output_type": "display_data"
    }
   ],
   "source": [
    "#1. \n",
    "#Define the sets\n",
    "A={65,20,25,8} #newsweek\n",
    "B={45,20,15,8} #times\n",
    "C={42,25,15,8} #fortune\n",
    "\n",
    "# Create the Venn diagram\n",
    "venn = venn3(subsets=(len(A - B - C), len(B - A - C), len(A & B - C), len(C - A - B),\n",
    "                      len(A & C - B), len(B & C - A), len(A & B & C)),\n",
    "             set_labels=('Newsweek', 'Times', 'Fortune'))\n",
    "\n",
    "# Add labels to the intersections\n",
    "venn.get_label_by_id('100').set_text('65')\n",
    "venn.get_label_by_id('010').set_text('45')\n",
    "venn.get_label_by_id('110').set_text('20')\n",
    "venn.get_label_by_id('001').set_text('42')\n",
    "venn.get_label_by_id('101').set_text('25')\n",
    "venn.get_label_by_id('011').set_text('15')\n",
    "venn.get_label_by_id('111').set_text('8')\n",
    "\n",
    "# Display the diagram\n",
    "plt.title(\"Survey of 120 People\")\n",
    "plt.show()"
   ]
  },
  {
   "cell_type": "markdown",
   "id": "0dcf3e4a-0cd9-4f0c-995b-59675fa3d9cc",
   "metadata": {
    "jp-MarkdownHeadingCollapsed": true
   },
   "source": [
    "- $|U| = 120$ (Universe)\n",
    "\n",
    "- $|A|= 65$ (Newsweek)\n",
    "- $|B| = 45$ (Times)\n",
    "- $|C| = 42$ (Fortune)\n",
    "- $|A \\cap B| = 20$\n",
    "- $|A \\cap C| = 25$\n",
    "- $|B \\cap C| = 15$\n",
    "- $|A \\cap B \\cap C| = 8$\n",
    "## 2. \n",
    "- \"Looking for who read 'at least one.'\n",
    "- $\\therefore$ looking for $|A| \\cup |B| \\cup |C|$\n",
    "- $|A| \\cup |B| \\cup |C| = |A| + |B| + |C| - |A \\cap B| - |A \\cap C| - |B \\cap C| + |A \\cap B \\cap C| = 65 + 45 + 42 - 20 - 25 - 15 + 8 = 100$\n",
    "\n",
    "- Answer:  (100 out of 120 people read atleast one of the three magazines) $|A| \\cup |B| \\cup |C| = 100$\n",
    "\n",
    "## 3. \n",
    "- Number of people who read exactly one magazine\n",
    "- $|A| - |A \\cap B| - |A \\cap C| + |A \\cap B \\cap C| = 65 - 20 - 25 + 8 = 28$ (People who read only Newsweek)\n",
    "- $|B| - |A \\cap B| - |B \\cap C| + |A \\cap B \\cap C| = 45 - 20 - 15 + 8 = 18$ (People who read only Times)\n",
    "- $|C| - |B \\cap C| - |A \\cap C| + |A \\cap B \\cap C| = 42 - 15 - 25 + 8 = 10$ (People who read only Fortune)\n",
    "- $28 + 18 + 10 = 56$\n",
    "- Answer: 56 out of 120 people read exactly one magazine."
   ]
  },
  {
   "cell_type": "markdown",
   "id": "064b7665-3660-4c9c-9c8c-5024ec14490d",
   "metadata": {},
   "source": [
    "## B. In a survey of 25 new cars...\n",
    "being sold at a local auto dealer was conducted to see which of the three popular options: air-conditioning, denoted as A; radio, denoted as R; and power windows, denoted as W were installed. The survey found that:\n",
    "- 15 had A. HINT: The condition said $\\textbf{\"had an A\"}$  <font color='red'>$\\textbf{ AND NOT}$ <font color='black'>$\\textbf{\"had an A only\"}$\n",
    "- 12 had R. HINT: The condition said $\\textbf{\"had a R\"}$  <font color='red'>$\\textbf{ AND NOT}$ <font color='black'>$\\textbf{\"had a R only\"}$\n",
    "- 11 had W. HINT: The condition said $\\textbf{\"had a W\"}$  <font color='red'>$\\textbf{ AND NOT}$ <font color='black'>$\\textbf{\"had a W only\"}$\n",
    "- 5 had A and W.\n",
    "- 9 had A and R.\n",
    "- 4 had R and W.\n",
    "- Only 3 hace the three options.\n",
    "With these information do the following:<br>\n",
    "1. Draw the venn diagram using python.<br>\n",
    "2. Find the number of cars with W only.<br>\n",
    "3. Find the number of cars with A only.<br>\n",
    "4. Find the number of cars with R only.<br>\n",
    "5. Find the number of cars with both R and W but not A.<br>\n",
    "6. Find the number of cars with both A and R but not W.<br>\n",
    "7. Find the number of cars with only one of the options.<br>\n",
    "8. Find the number of cars with at least one option.<br>\n",
    "9. Find the number of cars with none of the Options.<br>\n",
    "\n",
    "- $|A|= 15$\n",
    "- $|R| = 12$\n",
    "- $|W| = 11$\n",
    "- $|A \\cap W| = 5$\n",
    "- $|A \\cap R| = 9$\n",
    "- $|R \\cap W| = 4$\n",
    "- $|A \\cap W \\cap R| = 3$\n",
    "- $|U| = 25$\n",
    "\n",
    "2. $|W| - |A \\cap W| - |W \\cap R| + |A \\cap W \\cap R| = 11 - 5 - 4 + 3 = 5$\n",
    "3. $|A| - |A \\cap W| - |A \\cap R| + |A \\cap W \\cap R| = 15 - 5 - 9 + 3 = 4$\n",
    "4. $|R| - |R \\cap W| - |A \\cap R| + |A \\cap W \\cap R| = 12 - 9 - 4 + 3 = 2$\n",
    "5. $|W \\cap R| - |A \\cap W \\cap R| = 4 - 3 = 1$\n",
    "6. $|A \\cap R| - |A \\cap W \\cap R| = 9 - 3 = 6$\n",
    "7. $|A| - |A \\cap R| - |A \\cap W| + |A \\cap R \\cap W| = 15 - 5 - 9 + 3 = 4$\n",
    "- $|R| - |A \\cap R| - |R \\cap W| + |A \\cap R \\cap W| = 12 - 9 - 4 + 3 = 2$\n",
    "- $|W| - |W \\cap A| - |W \\cap R| + |A \\cap R \\cap W| = 11 - 5 - 4 + 3 = 5$\n",
    "- $5 + 2 + 4 = 11$\n",
    "8. $|A \\cup W \\cup |R| = |A| + |W| + |R| - |A \\cap R| - |A \\cap W| - |R \\cap W| + |A \\cap W \\cap R| = 15 + 11 + 12 - 9 - 5 - 4 + 3 = 23$ <br>\n",
    "9. $|A \\cup W \\cup R|^c = |U| - |A \\cup W \\cup R|$\n",
    "- $|A \\cup W \\cup R| = = |A| + |W| + |R| - |A \\cap R| - |A \\cap W| - |R \\cap W| + |A \\cap W \\cap R| = 15 + 11 + 12 - 9 - 5 - 4 + 3 = 23$\n",
    "- $|U| - |A \\cup W \\cup R| = 25 - 23 = 2$"
   ]
  },
  {
   "cell_type": "code",
   "execution_count": 12,
   "id": "6983ec09-bd48-4948-96b6-c7d2dc9352ee",
   "metadata": {},
   "outputs": [
    {
     "data": {
      "image/png": "[encoded data removed]",
      "text/plain": [
       "<Figure size 640x480 with 1 Axes>"
      ]
     },
     "metadata": {},
     "output_type": "display_data"
    }
   ],
   "source": [
    "#1 \n",
    "#Define the sets\n",
    "A={15,5,9,3} #A\n",
    "B={12,9,4,3} #R\n",
    "C={11,5,4,3} #W\n",
    "\n",
    "# Create the Venn diagram\n",
    "venn = venn3(subsets=(len(A - B - C), len(B - A - C), len(A & B - C), len(C - A - B),\n",
    "                      len(A & C - B), len(B & C - A), len(A & B & C)),\n",
    "             set_labels=('A', 'R', 'W'))\n",
    "\n",
    "# Add labels to the intersections\n",
    "venn.get_label_by_id('100').set_text('15')\n",
    "venn.get_label_by_id('010').set_text('12')\n",
    "venn.get_label_by_id('110').set_text('9')\n",
    "venn.get_label_by_id('001').set_text('11')\n",
    "venn.get_label_by_id('101').set_text('5')\n",
    "venn.get_label_by_id('011').set_text('4')\n",
    "venn.get_label_by_id('111').set_text('3')\n",
    "\n",
    "# Display the diagram\n",
    "plt.title(\"Survey for 25 New Cars\")\n",
    "plt.show()"
   ]
  },
  {
   "cell_type": "code",
   "execution_count": null,
   "id": "20cfdc9a-b7cc-4eeb-b23d-9d8c26c1d50f",
   "metadata": {},
   "outputs": [],
   "source": []
  },
  {
   "cell_type": "code",
   "execution_count": null,
   "id": "42c7b5b1-56d8-4bbe-8bda-0daa8941b2b8",
   "metadata": {},
   "outputs": [],
   "source": []
  }
 ],
 "metadata": {
  "kernelspec": {
   "display_name": "Python 3 (ipykernel)",
   "language": "python",
   "name": "python3"
  },
  "language_info": {
   "codemirror_mode": {
    "name": "ipython",
    "version": 3
   },
   "file_extension": ".py",
   "mimetype": "text/x-python",
   "name": "python",
   "nbconvert_exporter": "python",
   "pygments_lexer": "ipython3",
   "version": "3.11.4"
  }
 },
 "nbformat": 4,
 "nbformat_minor": 5
}
